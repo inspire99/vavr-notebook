{
 "cells": [
  {
   "cell_type": "markdown",
   "metadata": {},
   "source": [
    "## Introduction\n",
    "\n",
    "VAVR is a functional library for Java.\n",
    "\n",
    "##### Curiosity of the reader\n",
    "\n",
    "Your questions might be in the following manner depending upon your role in the company/ in your team:\n",
    "\n",
    "0. What is so cool about VAVR?\n",
    "1. If Java8 has provided functional aspects to Java Programming Language, why should I choose VAVR?\n",
    "2. Is VAVR robust enough, to be deployed in production environment?\n",
    "3. What will be the learning curve for my team if they need to plunge into VAVR and adapt VAVR into existing code?\n",
    "4. What kind of issues my product might face, if it is deployed into my production environment?\n",
    "5. Are there any best practices as far as VAVR is concerned?"
   ]
  },
  {
   "cell_type": "markdown",
   "metadata": {},
   "source": [
    "### Prerequisite for running VAVR code in this Jupyter notebook\n",
    "\n",
    "* Import VAVR maven dependency into this notebook, by running following maven magic command"
   ]
  },
  {
   "cell_type": "code",
   "execution_count": null,
   "metadata": {},
   "outputs": [],
   "source": [
    "%mavenRepo central http://repo1.maven.org/maven2/\n",
    "%maven io.vavr:vavr:0.9.0    \n",
    "import io.vavr.control.*;\n"
   ]
  },
  {
   "cell_type": "markdown",
   "metadata": {},
   "source": [
    "### VAVR Topics/ Concepts covered in this draft\n",
    "\n",
    "* Tuples\n",
    "* Controls (Option, Try, Either)\n",
    "* Functions\n",
    "* Collections\n",
    "* Concurrent (Future)"
   ]
  },
  {
   "cell_type": "markdown",
   "metadata": {},
   "source": [
    "### Tuples\n",
    "\n",
    "Tuple is a immutable data structure which can hold different objects of different data types\n",
    "\n",
    "* So, one question you would ask is, multiple means : how many? Currently, VAVR supports Tuples to hold 8 different objects of different data types.\n",
    "* So, we have types like: Tuple1, Tuple2, Tuple3, Tuple4, ..., Tuple8 where each Tuplen type allows to store n different objects in it.\n",
    "\n",
    "* Can we see an example of using Tuples in our code? Yes."
   ]
  },
  {
   "cell_type": "markdown",
   "metadata": {},
   "source": [
    "#### Tuple Creation/ Declaration/ Initialization\n",
    "\n",
    "* Use the static factory method Tuple.of()"
   ]
  },
  {
   "cell_type": "code",
   "execution_count": null,
   "metadata": {},
   "outputs": [],
   "source": [
    "import io.vavr.Tuple;\n",
    "import io.vavr.Tuple1;\n",
    "import io.vavr.Tuple2;\n",
    "\n",
    "Tuple1<String> stringTuple1 = Tuple.of(\"VAVR\");\n",
    "Tuple2<String, Integer> stringIntTuple = Tuple.of(\"JAVA\", 1);\n",
    "\n",
    "/**\n",
    " We need to initialize a Tuple like: Tuple.of(\"VAVR\", 8). \n",
    " You can see that we are holding a String object, as well as an \n",
    " integer within the tuple. The static factory method returns a variable of type Tuplen \n",
    " depending upon n arguments to the factory method\n",
    "**/"
   ]
  },
  {
   "cell_type": "markdown",
   "metadata": {},
   "source": [
    "#### Accessing individual elements of a Tuple\n",
    "\n",
    "* How do we access the individual objects within a Tuple?\n",
    "* Using indexing like _n or _n() to access the nth element within a Tuple.\n",
    "* Please note that we dont have zero based indexing here in Tuple\n",
    "* Can you notice one thing about the code readability? I am creating a Tuple of a string and integer.\n",
    "* Getting 1st element of Tuple means stringIntTuple.1"
   ]
  },
  {
   "cell_type": "code",
   "execution_count": null,
   "metadata": {},
   "outputs": [],
   "source": [
    "String s = stringTuple1._1();\n",
    "s"
   ]
  },
  {
   "cell_type": "code",
   "execution_count": null,
   "metadata": {},
   "outputs": [],
   "source": [
    "int integernum = stringIntTuple._2();\n",
    "integernum"
   ]
  },
  {
   "cell_type": "markdown",
   "metadata": {},
   "source": [
    "* Try doing something with below code, stringIntTuple is a Tuple. If you want to know what methods can be applied on a Tuple, just press Tab after the dot . Pressing Tab will list different methods or code completion possibilities"
   ]
  },
  {
   "cell_type": "code",
   "execution_count": null,
   "metadata": {},
   "outputs": [],
   "source": [
    "stringIntTuple._1"
   ]
  },
  {
   "cell_type": "code",
   "execution_count": null,
   "metadata": {},
   "outputs": [],
   "source": [
    "stringIntTuple.arity()"
   ]
  },
  {
   "cell_type": "markdown",
   "metadata": {},
   "source": [
    "#### Applying componentwise on Tuple\n",
    "\n",
    "* use map and you can apply function to each member or you can apply BiFunction to the Tuple to generate a Tuple"
   ]
  },
  {
   "cell_type": "code",
   "execution_count": null,
   "metadata": {},
   "outputs": [],
   "source": [
    "Tuple2<String, Integer> stringIntTuple = Tuple.of(\"java\", 8);\n",
    "\n",
    "System.out.println(\"Let's print contents of the Tuple\");\n",
    "\n",
    "System.out.println(stringIntTuple);\n",
    "\n",
    "System.out.println(\"First member\");\n",
    "\n",
    "System.out.println(stringIntTuple._1);\n",
    "\n",
    "System.out.println(\"Second member\");\n",
    "\n",
    "System.out.println(stringIntTuple._2());\n",
    "\n",
    "System.out.println(\"Applying Function to each member of Tuple\");\n",
    "\n",
    "stringIntTuple = stringIntTuple.map(s -> s.substring(2) + \"vr\", i -> i/8);\n",
    "\n",
    "System.out.println(stringIntTuple);\n",
    "\n",
    "System.out.println(\"Applying BiFunction to Tuple and generating a Tuple\");\n",
    "\n",
    "stringIntTuple = stringIntTuple.map( (s, i) -> Tuple.of(s.substring(1), i +8));\n",
    "\n",
    "System.out.println(stringIntTuple);\n",
    "\n",
    "System.out.println(\"Applying another BiFunction to Tuple and generating a Tuple\");\n",
    "\n",
    "stringIntTuple = stringIntTuple.map( ( s, i) -> Tuple.of( s.replace(\"a\",\"2\"), i * 2));\n",
    "\n",
    "System.out.println(stringIntTuple);       "
   ]
  },
  {
   "cell_type": "markdown",
   "metadata": {},
   "source": [
    "#### Transforming Tuple to another Type\n",
    "\n",
    "* use apply"
   ]
  },
  {
   "cell_type": "code",
   "execution_count": null,
   "metadata": {},
   "outputs": [],
   "source": [
    "String str = stringIntTuple.apply( (s, i) -> s.toUpperCase() + i.toString());\n",
    "\n",
    "System.out.println(str);"
   ]
  },
  {
   "cell_type": "markdown",
   "metadata": {},
   "source": [
    "### Controls ( Option, Try, Either )\n",
    "\n",
    "( Before moving onto next section of Functions (especially Lifting feature), you need to know important concept of Option here )\n",
    "\n",
    "\n",
    "#### Option\n",
    "\n",
    "* Option is a monadic container type which represents an optional value.\n",
    "* Instances of Option are either an instance of Some or the None.\n",
    "* One goal of Option is to eliminate null checks in our code.\n",
    "\n",
    "For a null value, it evaluates to a instance of None.\n",
    "For a non null value, it evaluates to a instance of Some.\n",
    "\n",
    "* Can you show examples of using Option in our code? Yes, definitely.\n",
    "* Consider Option like a container of an object which could be a nullable\n"
   ]
  },
  {
   "cell_type": "code",
   "execution_count": null,
   "metadata": {},
   "outputs": [],
   "source": [
    "String name = null;\n",
    "Option<String> nameOption = Option.of(name);\n",
    "nameOption"
   ]
  },
  {
   "cell_type": "code",
   "execution_count": null,
   "metadata": {},
   "outputs": [],
   "source": [
    "String somename = \"string\";\n",
    "Option<String> somenameOption = Option.of(somename);\n",
    "somenameOption"
   ]
  },
  {
   "cell_type": "markdown",
   "metadata": {},
   "source": [
    "#### Try\n",
    "\n",
    "* Try is a monadic container type for a computation and that contained computation might produce a result or might produce an exception.\n",
    "* Instances of Try are either an instance of Success or an instance of Failure\n",
    "\n",
    "* Before VAVR, we would handle null checks with lot of if() blocks. That explicit handling can be replaced with the construct provided by Option.\n",
    "* Similarly, before VAVR, we would handle computation within context of a try-catch block. That explicit handling can be replaced with the construct provided by Try.\n"
   ]
  },
  {
   "cell_type": "code",
   "execution_count": null,
   "metadata": {},
   "outputs": [],
   "source": [
    "import io.vavr.control.Try;\n",
    "\n",
    "Try<Integer> result = Try.of(() -> 1/0);\n",
    "result"
   ]
  },
  {
   "cell_type": "code",
   "execution_count": null,
   "metadata": {},
   "outputs": [],
   "source": [
    "result.isEmpty() ? result.getOrElse(22) : result.get()\n",
    "// if result is empty, which can happen in case of Exception\n",
    "// getOrElse() would get value if not empty: or else present the argument as result"
   ]
  },
  {
   "cell_type": "code",
   "execution_count": null,
   "metadata": {},
   "outputs": [],
   "source": [
    "Try<BigDecimal> resultNormal = Try.of( () -> new BigDecimal(1/22));\n",
    "resultNormal"
   ]
  },
  {
   "cell_type": "code",
   "execution_count": null,
   "metadata": {},
   "outputs": [],
   "source": [
    "resultNormal.get()"
   ]
  },
  {
   "cell_type": "markdown",
   "metadata": {},
   "source": [
    "#### Either\n",
    "\n",
    "* Either represents a value of two possible types. \n",
    "* An Either is either a Left or a Right. \n",
    "* If the given Either is a Right and projected to a Left, the Left operations have no effect on the Right value.\n",
    "* If the given Either is a Left and projected to a Right, the Right operations have no effect on the Left value. \n",
    "* If a Left is projected to a Left or a Right is projected to a Right, the operations have an effect.\n",
    "\n",
    "* By convention, Left is failure and Right is success containing a result."
   ]
  },
  {
   "cell_type": "code",
   "execution_count": null,
   "metadata": {},
   "outputs": [],
   "source": [
    "private static Either<String, Integer> computeWithEither(int marks) {\n",
    "    if (marks < 45) {\n",
    "        return Either.left(\"You have failed\");\n",
    "    } else {\n",
    "        return Either.right(marks);\n",
    "    }\n",
    "}"
   ]
  },
  {
   "cell_type": "code",
   "execution_count": null,
   "metadata": {},
   "outputs": [],
   "source": [
    "computeWithEither(22)"
   ]
  },
  {
   "cell_type": "code",
   "execution_count": null,
   "metadata": {},
   "outputs": [],
   "source": [
    "computeWithEither(87).get()"
   ]
  },
  {
   "cell_type": "markdown",
   "metadata": {},
   "source": [
    "### Functions\n",
    "\n",
    "Functional Programming is about values and transformation of values\n",
    "\n",
    "* In Java8, we would have come across Function, BiFunction. So BiFunction deals with taking 2 arguments. VAVR supports Functions which can take multiple arguments.\n",
    "* So, one question you would ask is, multiple means : how many? Currently, VAVR supports Functions to handle 8 arguments.\n",
    "* So, we have functional interfaces of the like: Function1, Function2, Function3, Function4, ..., Function8 where each Functionn function allows to handle n arguments.\n",
    "\n",
    "* Can we see an example of using Functionns in our code? Yes.\n"
   ]
  },
  {
   "cell_type": "markdown",
   "metadata": {},
   "source": [
    "##### Java Functional Interface - Function and BiFunction"
   ]
  },
  {
   "cell_type": "code",
   "execution_count": null,
   "metadata": {},
   "outputs": [],
   "source": [
    "import java.util.function.*;"
   ]
  },
  {
   "cell_type": "code",
   "execution_count": null,
   "metadata": {},
   "outputs": [],
   "source": [
    "Function<Integer, Integer> pow = (n) -> n * n;\n",
    "pow.apply(5);\n",
    "        \n",
    "        "
   ]
  },
  {
   "cell_type": "code",
   "execution_count": null,
   "metadata": {},
   "outputs": [],
   "source": [
    "BiFunction<Integer, Integer, Integer> multiply = (a, b) -> a * b;\n",
    "multiply.apply(10,5);\n"
   ]
  },
  {
   "cell_type": "markdown",
   "metadata": {},
   "source": [
    "##### VAVR Functional Interfaces: Functionn\n",
    "\n",
    "VAVR provides capabilities to write functions which take upto 8 parameters,\n",
    "Here we are going to see function which takes upto 3 parameters, by using Function3 interface."
   ]
  },
  {
   "cell_type": "code",
   "execution_count": null,
   "metadata": {},
   "outputs": [],
   "source": [
    "import io.vavr.Function1;\n",
    "\n",
    "Function1<Integer, Integer> pow = (n) -> n * n;\n",
    "\n",
    "pow.apply(8)\n",
    "\n",
    "    "
   ]
  },
  {
   "cell_type": "markdown",
   "metadata": {},
   "source": [
    "You can read above code as:\n",
    "Right hand side expression is a lambda expression which can be assigned to a functional interface, pow. \n",
    "And pow is a function which takes an integer as argument and returns result as integer.\n",
    "And pow function is applied to the argument 8, which returns 64 as result"
   ]
  },
  {
   "cell_type": "markdown",
   "metadata": {},
   "source": [
    "##### Applying Function2 to return custom objects"
   ]
  },
  {
   "cell_type": "code",
   "execution_count": null,
   "metadata": {},
   "outputs": [],
   "source": [
    "private static class Employee {\n",
    "        Integer empId;\n",
    "        String empName;\n",
    "\n",
    "        Employee(Integer id, String name){\n",
    "            this.empId = id;\n",
    "            this.empName = name;\n",
    "        }\n",
    "\n",
    "        @Override\n",
    "        public String toString() {\n",
    "            return \"Name = \" + empName + \" id = \" + empId;\n",
    "        }\n",
    "    }"
   ]
  },
  {
   "cell_type": "code",
   "execution_count": null,
   "metadata": {
    "scrolled": true
   },
   "outputs": [],
   "source": [
    "import io.vavr.*;\n",
    "\n",
    "Function2<Integer, String, Employee> takeIntStrReturnEmployee = ( i , s ) -> ( new Employee(i, s));\n",
    "\n",
    "System.out.println(takeIntStrReturnEmployee.apply(33, \"John Doe\").toString());\n"
   ]
  },
  {
   "cell_type": "markdown",
   "metadata": {},
   "source": [
    "##### Creating a function using Static Factory Method on Method Reference"
   ]
  },
  {
   "cell_type": "code",
   "execution_count": null,
   "metadata": {},
   "outputs": [],
   "source": [
    "Function2<Integer,String,Employee> employeeCreator = Function2.of(takeIntStrReturnEmployee);\n",
    "\n",
    "System.out.println(employeeCreator.apply(22).apply(\"John Dash\").toString());\n"
   ]
  },
  {
   "cell_type": "markdown",
   "metadata": {},
   "source": [
    "#### Features of VAVR Functional Interfaces\n",
    "\n",
    "* Composition\n",
    "* Lifting\n",
    "* Currying\n",
    "* Memoization\n",
    "\n"
   ]
  },
  {
   "cell_type": "markdown",
   "metadata": {},
   "source": [
    "##### Composition\n",
    "\n",
    "* Composition allows to compose functions with existing functions ( something like: take 2 functions operating with common types and then extract a 3rd function )\n",
    "* The functions f : X → Y and g : Y → Z can be composed to yield a function h: g(f(x)) which maps X → Z.\n",
    "* For composition, you can use andThen() or compose()"
   ]
  },
  {
   "cell_type": "markdown",
   "metadata": {},
   "source": [
    "###### andThen() example"
   ]
  },
  {
   "cell_type": "code",
   "execution_count": null,
   "metadata": {},
   "outputs": [],
   "source": [
    "\n",
    "Function1<Integer, Integer> multiplyBy3 = i -> i*3; // f: X -> Y\n",
    "Function1<Integer, Integer> addWith1 = i -> i + 1;  // g: Y -> Z\n",
    "\n",
    "// h: g(f(x)) which maps X -> Z\n",
    "Function1<Integer, Integer> addWith1AndMultiplyBy3 = addWith1.andThen(multiplyBy3);\n",
    "\n",
    "addWith1AndMultiplyBy3.apply(22)   \n"
   ]
  },
  {
   "cell_type": "markdown",
   "metadata": {},
   "source": [
    "###### compose() example"
   ]
  },
  {
   "cell_type": "code",
   "execution_count": null,
   "metadata": {},
   "outputs": [],
   "source": [
    "Function1<Integer,Integer> addWith1AndMultipleBy3Compose = multiplyBy3.compose(addWith1); // g(f(x))\n",
    "        System.out.println(addWith1AndMultipleBy3Compose.apply(22));\n"
   ]
  },
  {
   "cell_type": "markdown",
   "metadata": {},
   "source": [
    "###### andThen() another example"
   ]
  },
  {
   "cell_type": "code",
   "execution_count": null,
   "metadata": {},
   "outputs": [],
   "source": [
    "import io.vavr.Function3;\n",
    "Function3<Integer, Integer, Integer, Integer> multiply = (n1, n2, n3) -> n1 * n2 * n3;\n",
    "\n",
    "multiply.andThen(pow).apply(2,2,2)\n"
   ]
  },
  {
   "cell_type": "markdown",
   "metadata": {},
   "source": [
    "You can read above code as: Right hand expression is a lambda expression, which takes 3 parameters and multiplies them with each other. And that lambda expression is assigned to a functional interface Function3, which expresses a function which takes 3 arguments and returns a result which is Integer.\n",
    "\n",
    "So, we first apply multiply onto the arguments (2,2,2) and then we apply pow onto the resultant of multiply call."
   ]
  },
  {
   "cell_type": "markdown",
   "metadata": {},
   "source": [
    "##### Lifting\n",
    "\n",
    "* Lifting generally means that you are lifting something up ( assuming gravity is there :) )\n",
    "* Here, in context of VAVR functions, lifting means that, we can lift partial function to the level of total functions.\n",
    "* Hey, so what is total and what is partial?\n",
    "* Imagine that you have a function which operates on input values. Imagine also that the function cannot handle certain values from input. When it encounter those values, it says: exception. This function falls into category of partial function.\n",
    "* ( Slowly imagine how you can lift partial function to the level of Total function )\n",
    "* So, now you are the point where you ask: Tell me how do you lift, I just want that.\n",
    "\n"
   ]
  },
  {
   "cell_type": "code",
   "execution_count": null,
   "metadata": {},
   "outputs": [],
   "source": [
    "import io.vavr.*;\n",
    "\n",
    "Function2<Integer, Integer, Integer> divide = (a, b) -> a / b;\n",
    "divide.apply(2,3)"
   ]
  },
  {
   "cell_type": "code",
   "execution_count": null,
   "metadata": {},
   "outputs": [],
   "source": [
    "divide.apply(1,0)"
   ]
  },
  {
   "cell_type": "code",
   "execution_count": null,
   "metadata": {},
   "outputs": [],
   "source": [
    "// Let us make the divide function safe by lifting, using help of Option construct\n",
    "import io.vavr.*;\n",
    "Function2<Integer, Integer, Option<Integer>> safeDivide = Function2.lift(divide);\n",
    "\n",
    "Option<Integer> i1 = safeDivide.apply(1, 0);\n",
    "\n",
    "i1"
   ]
  },
  {
   "cell_type": "code",
   "execution_count": null,
   "metadata": {},
   "outputs": [],
   "source": [
    "// = Some(2)\n",
    "Option<Integer> i2 = safeDivide.apply(4, 2);\n",
    "i2"
   ]
  },
  {
   "cell_type": "markdown",
   "metadata": {},
   "source": [
    "* Lifted function, when it encounters invalid input values, returns None and does not throw exception\n",
    "* Lifted function, when it encounters valid input values, returns Some(Value)"
   ]
  },
  {
   "cell_type": "markdown",
   "metadata": {},
   "source": [
    "##### Partial Application\n",
    "\n",
    "* Let's say, you have a function, for eg FunctionA which takes 4 parameters.\n",
    "* Imagine that you want to still use FunctionA, but the condition that, 2 parameters are taken from the user and 2 parameters are having fixed values set always.\n",
    "* From the above step, we can see that FunctionA makes it possible to derive another FunctionB out of it.\n",
    "* With Partial Application, we can derive functions out of existing functions, by fixing some parameter values.\n",
    "\n"
   ]
  },
  {
   "cell_type": "code",
   "execution_count": null,
   "metadata": {},
   "outputs": [],
   "source": [
    "Function5<Integer, Integer, Integer, Integer, Integer, Integer> sum = (a, b, c, d, e) -> a + b + c + d + e;\n",
    "Function2<Integer, Integer, Integer> add6 = sum.apply(2, 3, 1); \n",
    "\n",
    "sum.apply(2,3,1,4,3)"
   ]
  },
  {
   "cell_type": "code",
   "execution_count": null,
   "metadata": {},
   "outputs": [],
   "source": [
    "add6.apply(4, 3) // you can see that 2,3,1 are fixed parameters"
   ]
  },
  {
   "cell_type": "markdown",
   "metadata": {},
   "source": [
    "* Please note that fixing parameters happens from left to right. So, if we fix 2 parameters out of 6, it means that first 2 parameters are fixed."
   ]
  },
  {
   "cell_type": "markdown",
   "metadata": {},
   "source": [
    "##### Currying\n",
    "\n",
    "* Currying and Partial Application is almost same. It means that we are deriving functions out of existing functions, by fixing values out of parameters. \n",
    "* The difference is that Currying (curried()) generates a Function. Given a higher level function, currying generates a Function1, which returns a Function1 and so on..\n",
    "* Imagine you have a parent Function4 ( it takes 4 parameters and returns a result ). If you apply currying, then it will return a \n",
    "\n",
    "\n",
    "* Function1 which takes one input, ( returns another \n",
    "* Function1 which takes one input, ( returns another \n",
    "* Function1 which takes one input, ( returns another\n",
    "* Function1 which takes one input, ( returns a value )\n",
    "\n"
   ]
  },
  {
   "cell_type": "code",
   "execution_count": null,
   "metadata": {},
   "outputs": [],
   "source": [
    "Function5<Integer, Integer, Integer, Integer, Integer, Integer> takes5ReturnsValue\n",
    "    = (a, b, c, d,e) -> a+b+c+d+e;\n",
    "\n",
    "final Function1<Integer, Function1<Integer, Function1<Integer, Function1<Integer, Integer>>>> function1 \n",
    "  = takes5ReturnsValue.curried().apply(3);\n"
   ]
  },
  {
   "cell_type": "code",
   "execution_count": null,
   "metadata": {},
   "outputs": [],
   "source": [
    "function1.apply(2).apply(2).apply(2).apply(2)"
   ]
  },
  {
   "cell_type": "markdown",
   "metadata": {},
   "source": [
    "##### Memoization\n",
    "\n",
    "* Memoization is a form of caching.\n",
    "* The function executes only once and returns the cached value in further invocations.\n",
    "\n"
   ]
  },
  {
   "cell_type": "code",
   "execution_count": null,
   "metadata": {},
   "outputs": [],
   "source": [
    "Function0<Double> hashCache =\n",
    "        Function0.of(Math::random).memoized();\n",
    "\n",
    "double randomValue1 = hashCache.apply();\n",
    "double randomValue2 = hashCache.apply();\n",
    "\n",
    "randomValue1 == randomValue2"
   ]
  },
  {
   "cell_type": "markdown",
   "metadata": {},
   "source": [
    "### Co(o)llections\n",
    "\n"
   ]
  },
  {
   "cell_type": "markdown",
   "metadata": {},
   "source": [
    "### Concurrent ( Future )\n",
    "\n"
   ]
  }
 ],
 "metadata": {
  "kernelspec": {
   "display_name": "Java",
   "language": "java",
   "name": "java"
  },
  "language_info": {
   "codemirror_mode": "java",
   "file_extension": ".java",
   "mimetype": "text/x-java-source",
   "name": "Java",
   "pygments_lexer": "java",
   "version": "11.0.2+7-LTS"
  }
 },
 "nbformat": 4,
 "nbformat_minor": 2
}
