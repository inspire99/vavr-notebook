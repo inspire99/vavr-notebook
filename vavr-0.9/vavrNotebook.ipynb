{
 "cells": [
  {
   "cell_type": "markdown",
   "metadata": {},
   "source": [
    "## Introduction\n",
    "\n",
    "VAVR is a functional library for Java.\n",
    "\n",
    "##### Curiosity of the reader\n",
    "\n",
    "Your questions might be in the following manner depending upon your role in the company/ in your team:\n",
    "\n",
    "0. What is so cool about VAVR?\n",
    "1. If Java8 has provided functional aspects to Java Programming Language, why should I choose VAVR?\n",
    "2. Is VAVR robust enough, to be deployed in production environment?\n",
    "3. What will be the learning curve for my team if they need to plunge into VAVR and adapt VAVR into existing code?\n",
    "4. What kind of issues my product might face, if it is deployed into my production environment?\n",
    "5. Are there any best practices as far as VAVR is concerned?"
   ]
  },
  {
   "cell_type": "markdown",
   "metadata": {},
   "source": [
    "### Prerequisite for running VAVR code in this Jupyter notebook\n",
    "\n",
    "* Import VAVR maven dependency into this notebook, by running following maven magic command"
   ]
  },
  {
   "cell_type": "code",
   "execution_count": 1,
   "metadata": {},
   "outputs": [],
   "source": [
    "%mavenRepo central http://repo1.maven.org/maven2/\n",
    "%maven io.vavr:vavr:0.9.0    \n",
    "import io.vavr.control.*;\n"
   ]
  },
  {
   "cell_type": "markdown",
   "metadata": {},
   "source": [
    "### VAVR Topics/ Concepts covered in this draft\n",
    "\n",
    "* Tuples\n",
    "* Controls (Option, Try, Either)\n",
    "* Functions\n",
    "* Collections\n",
    "* Concurrent (Future)"
   ]
  },
  {
   "cell_type": "markdown",
   "metadata": {},
   "source": [
    "### Tuples\n",
    "\n",
    "Tuple is a immutable data structure which can hold different objects of different data types\n",
    "\n",
    "* So, one question you would ask is, multiple means : how many? Currently, VAVR supports Tuples to hold 8 different objects of different data types.\n",
    "* So, we have types like: Tuple1, Tuple2, Tuple3, Tuple4, ..., Tuple8 where each Tuplen type allows to store n different objects in it.\n",
    "\n",
    "* Can we see an example of using Tuples in our code? Yes."
   ]
  },
  {
   "cell_type": "markdown",
   "metadata": {},
   "source": [
    "#### Tuple Creation/ Declaration/ Initialization\n",
    "\n",
    "* Use the static factory method Tuple.of()"
   ]
  },
  {
   "cell_type": "code",
   "execution_count": 2,
   "metadata": {},
   "outputs": [],
   "source": [
    "import io.vavr.Tuple;\n",
    "import io.vavr.Tuple1;\n",
    "import io.vavr.Tuple2;\n",
    "\n",
    "Tuple1<String> stringTuple1 = Tuple.of(\"VAVR\");\n",
    "Tuple2<String, Integer> stringIntTuple = Tuple.of(\"JAVA\", 1);\n",
    "\n",
    "/**\n",
    " We need to initialize a Tuple like: Tuple.of(\"VAVR\", 8). \n",
    " You can see that we are holding a String object, as well as an \n",
    " integer within the tuple. The static factory method returns a variable of type Tuplen \n",
    " depending upon n arguments to the factory method\n",
    "**/"
   ]
  },
  {
   "cell_type": "markdown",
   "metadata": {},
   "source": [
    "#### Accessing individual elements of a Tuple\n",
    "\n",
    "* How do we access the individual objects within a Tuple?\n",
    "* Using indexing like _n or _n() to access the nth element within a Tuple.\n",
    "* Please note that we dont have zero based indexing here in Tuple\n",
    "* Can you notice one thing about the code readability? I am creating a Tuple of a string and integer.\n",
    "* Getting 1st element of Tuple means stringIntTuple.1"
   ]
  },
  {
   "cell_type": "code",
   "execution_count": 3,
   "metadata": {},
   "outputs": [
    {
     "data": {
      "text/plain": [
       "VAVR"
      ]
     },
     "execution_count": 3,
     "metadata": {},
     "output_type": "execute_result"
    }
   ],
   "source": [
    "String s = stringTuple1._1();\n",
    "s"
   ]
  },
  {
   "cell_type": "code",
   "execution_count": 4,
   "metadata": {},
   "outputs": [
    {
     "data": {
      "text/plain": [
       "1"
      ]
     },
     "execution_count": 4,
     "metadata": {},
     "output_type": "execute_result"
    }
   ],
   "source": [
    "int integernum = stringIntTuple._2();\n",
    "integernum"
   ]
  },
  {
   "cell_type": "markdown",
   "metadata": {},
   "source": [
    "* Try doing something with below code, stringIntTuple is a Tuple. If you want to know what methods can be applied on a Tuple, just press Tab after the dot . Pressing Tab will list different methods or code completion possibilities"
   ]
  },
  {
   "cell_type": "code",
   "execution_count": 5,
   "metadata": {},
   "outputs": [
    {
     "data": {
      "text/plain": [
       "JAVA"
      ]
     },
     "execution_count": 5,
     "metadata": {},
     "output_type": "execute_result"
    }
   ],
   "source": [
    "stringIntTuple._1"
   ]
  },
  {
   "cell_type": "code",
   "execution_count": 6,
   "metadata": {},
   "outputs": [
    {
     "data": {
      "text/plain": [
       "2"
      ]
     },
     "execution_count": 6,
     "metadata": {},
     "output_type": "execute_result"
    }
   ],
   "source": [
    "stringIntTuple.arity()"
   ]
  },
  {
   "cell_type": "markdown",
   "metadata": {},
   "source": [
    "#### Applying componentwise on Tuple\n",
    "\n",
    "* use map and you can apply function to each member or you can apply BiFunction to the Tuple to generate a Tuple"
   ]
  },
  {
   "cell_type": "code",
   "execution_count": 7,
   "metadata": {},
   "outputs": [
    {
     "name": "stdout",
     "output_type": "stream",
     "text": [
      "Let's print contents of the Tuple\n",
      "(java, 8)\n",
      "First member\n",
      "java\n",
      "Second member\n",
      "8\n",
      "Applying Function to each member of Tuple\n",
      "(vavr, 1)\n",
      "Applying BiFunction to Tuple and generating a Tuple\n",
      "(avr, 9)\n",
      "Applying another BiFunction to Tuple and generating a Tuple\n",
      "(2vr, 18)\n"
     ]
    }
   ],
   "source": [
    "Tuple2<String, Integer> stringIntTuple = Tuple.of(\"java\", 8);\n",
    "\n",
    "System.out.println(\"Let's print contents of the Tuple\");\n",
    "\n",
    "System.out.println(stringIntTuple);\n",
    "\n",
    "System.out.println(\"First member\");\n",
    "\n",
    "System.out.println(stringIntTuple._1);\n",
    "\n",
    "System.out.println(\"Second member\");\n",
    "\n",
    "System.out.println(stringIntTuple._2());\n",
    "\n",
    "System.out.println(\"Applying Function to each member of Tuple\");\n",
    "\n",
    "stringIntTuple = stringIntTuple.map(s -> s.substring(2) + \"vr\", i -> i/8);\n",
    "\n",
    "System.out.println(stringIntTuple);\n",
    "\n",
    "System.out.println(\"Applying BiFunction to Tuple and generating a Tuple\");\n",
    "\n",
    "stringIntTuple = stringIntTuple.map( (s, i) -> Tuple.of(s.substring(1), i +8));\n",
    "\n",
    "System.out.println(stringIntTuple);\n",
    "\n",
    "System.out.println(\"Applying another BiFunction to Tuple and generating a Tuple\");\n",
    "\n",
    "stringIntTuple = stringIntTuple.map( ( s, i) -> Tuple.of( s.replace(\"a\",\"2\"), i * 2));\n",
    "\n",
    "System.out.println(stringIntTuple);       "
   ]
  },
  {
   "cell_type": "markdown",
   "metadata": {},
   "source": [
    "#### Transforming Tuple to another Type\n",
    "\n",
    "* use apply"
   ]
  },
  {
   "cell_type": "code",
   "execution_count": 8,
   "metadata": {},
   "outputs": [
    {
     "name": "stdout",
     "output_type": "stream",
     "text": [
      "2VR18\n"
     ]
    }
   ],
   "source": [
    "String str = stringIntTuple.apply( (s, i) -> s.toUpperCase() + i.toString());\n",
    "\n",
    "System.out.println(str);"
   ]
  },
  {
   "cell_type": "markdown",
   "metadata": {},
   "source": [
    "### Controls ( Option, Try, Either )\n",
    "\n",
    "( Before moving onto next section of Functions (especially Lifting feature), you need to know important concept of Option here )\n",
    "\n",
    "\n",
    "#### Option\n",
    "\n",
    "* Option is a monadic container type which represents an optional value.\n",
    "* Instances of Option are either an instance of Some or the None.\n",
    "* One goal of Option is to eliminate null checks in our code.\n",
    "\n",
    "For a null value, it evaluates to a instance of None.\n",
    "For a non null value, it evaluates to a instance of Some.\n",
    "\n",
    "* Can you show examples of using Option in our code? Yes, definitely.\n",
    "* Consider Option like a container of an object which could be a nullable\n"
   ]
  },
  {
   "cell_type": "code",
   "execution_count": 9,
   "metadata": {},
   "outputs": [
    {
     "data": {
      "text/plain": [
       "None"
      ]
     },
     "execution_count": 9,
     "metadata": {},
     "output_type": "execute_result"
    }
   ],
   "source": [
    "String name = null;\n",
    "Option<String> nameOption = Option.of(name);\n",
    "nameOption"
   ]
  },
  {
   "cell_type": "code",
   "execution_count": 10,
   "metadata": {},
   "outputs": [
    {
     "data": {
      "text/plain": [
       "Some(string)"
      ]
     },
     "execution_count": 10,
     "metadata": {},
     "output_type": "execute_result"
    }
   ],
   "source": [
    "String somename = \"string\";\n",
    "Option<String> somenameOption = Option.of(somename);\n",
    "somenameOption"
   ]
  },
  {
   "cell_type": "markdown",
   "metadata": {},
   "source": [
    "#### Try\n",
    "\n",
    "* Try is a monadic container type for a computation and that contained computation might produce a result or might produce an exception.\n",
    "* Instances of Try are either an instance of Success or an instance of Failure\n",
    "\n",
    "* Before VAVR, we would handle null checks with lot of if() blocks. That explicit handling can be replaced with the construct provided by Option.\n",
    "* Similarly, before VAVR, we would handle computation within context of a try-catch block. That explicit handling can be replaced with the construct provided by Try.\n"
   ]
  },
  {
   "cell_type": "code",
   "execution_count": 11,
   "metadata": {},
   "outputs": [
    {
     "data": {
      "text/plain": [
       "Failure(java.lang.ArithmeticException: / by zero)"
      ]
     },
     "execution_count": 11,
     "metadata": {},
     "output_type": "execute_result"
    }
   ],
   "source": [
    "import io.vavr.control.Try;\n",
    "\n",
    "Try<Integer> result = Try.of(() -> 1/0);\n",
    "result"
   ]
  },
  {
   "cell_type": "code",
   "execution_count": 12,
   "metadata": {},
   "outputs": [
    {
     "data": {
      "text/plain": [
       "22"
      ]
     },
     "execution_count": 12,
     "metadata": {},
     "output_type": "execute_result"
    }
   ],
   "source": [
    "result.isEmpty() ? result.getOrElse(22) : result.get()\n",
    "// if result is empty, which can happen in case of Exception\n",
    "// getOrElse() would get value if not empty: or else present the argument as result"
   ]
  },
  {
   "cell_type": "code",
   "execution_count": 13,
   "metadata": {},
   "outputs": [
    {
     "data": {
      "text/plain": [
       "Success(0)"
      ]
     },
     "execution_count": 13,
     "metadata": {},
     "output_type": "execute_result"
    }
   ],
   "source": [
    "Try<BigDecimal> resultNormal = Try.of( () -> new BigDecimal(1/22));\n",
    "resultNormal"
   ]
  },
  {
   "cell_type": "code",
   "execution_count": 14,
   "metadata": {},
   "outputs": [
    {
     "data": {
      "text/plain": [
       "0"
      ]
     },
     "execution_count": 14,
     "metadata": {},
     "output_type": "execute_result"
    }
   ],
   "source": [
    "resultNormal.get()"
   ]
  },
  {
   "cell_type": "markdown",
   "metadata": {},
   "source": [
    "#### Either\n",
    "\n",
    "* Either represents a value of two possible types. \n",
    "* An Either is either a Left or a Right. \n",
    "* If the given Either is a Right and projected to a Left, the Left operations have no effect on the Right value.\n",
    "* If the given Either is a Left and projected to a Right, the Right operations have no effect on the Left value. \n",
    "* If a Left is projected to a Left or a Right is projected to a Right, the operations have an effect.\n",
    "\n",
    "* By convention, Left is failure and Right is success containing a result."
   ]
  },
  {
   "cell_type": "code",
   "execution_count": 15,
   "metadata": {},
   "outputs": [],
   "source": [
    "private static Either<String, Integer> computeWithEither(int marks) {\n",
    "    if (marks < 45) {\n",
    "        return Either.left(\"You have failed\");\n",
    "    } else {\n",
    "        return Either.right(marks);\n",
    "    }\n",
    "}"
   ]
  },
  {
   "cell_type": "code",
   "execution_count": 16,
   "metadata": {},
   "outputs": [
    {
     "data": {
      "text/plain": [
       "Left(You have failed)"
      ]
     },
     "execution_count": 16,
     "metadata": {},
     "output_type": "execute_result"
    }
   ],
   "source": [
    "computeWithEither(22)"
   ]
  },
  {
   "cell_type": "code",
   "execution_count": 17,
   "metadata": {},
   "outputs": [
    {
     "data": {
      "text/plain": [
       "87"
      ]
     },
     "execution_count": 17,
     "metadata": {},
     "output_type": "execute_result"
    }
   ],
   "source": [
    "computeWithEither(87).get()"
   ]
  },
  {
   "cell_type": "markdown",
   "metadata": {},
   "source": [
    "### Functions\n",
    "\n",
    "Functional Programming is about values and transformation of values\n",
    "\n",
    "* In Java8, we would have come across Function, BiFunction. So BiFunction deals with taking 2 arguments. VAVR supports Functions which can take multiple arguments.\n",
    "* So, one question you would ask is, multiple means : how many? Currently, VAVR supports Functions to handle 8 arguments.\n",
    "* So, we have functional interfaces of the like: Function1, Function2, Function3, Function4, ..., Function8 where each Functionn function allows to handle n arguments.\n",
    "\n",
    "* Can we see an example of using Functionns in our code? Yes.\n"
   ]
  },
  {
   "cell_type": "markdown",
   "metadata": {},
   "source": [
    "##### Java Functional Interface - Function and BiFunction"
   ]
  },
  {
   "cell_type": "code",
   "execution_count": 18,
   "metadata": {},
   "outputs": [],
   "source": [
    "import java.util.function.*;"
   ]
  },
  {
   "cell_type": "code",
   "execution_count": 19,
   "metadata": {},
   "outputs": [
    {
     "data": {
      "text/plain": [
       "25"
      ]
     },
     "execution_count": 19,
     "metadata": {},
     "output_type": "execute_result"
    }
   ],
   "source": [
    "Function<Integer, Integer> pow = (n) -> n * n;\n",
    "pow.apply(5);\n",
    "        \n",
    "        "
   ]
  },
  {
   "cell_type": "code",
   "execution_count": 20,
   "metadata": {},
   "outputs": [
    {
     "data": {
      "text/plain": [
       "50"
      ]
     },
     "execution_count": 20,
     "metadata": {},
     "output_type": "execute_result"
    }
   ],
   "source": [
    "BiFunction<Integer, Integer, Integer> multiply = (a, b) -> a * b;\n",
    "multiply.apply(10,5);\n"
   ]
  },
  {
   "cell_type": "markdown",
   "metadata": {},
   "source": [
    "##### VAVR Functional Interfaces: Functionn\n",
    "\n",
    "VAVR provides capabilities to write functions which take upto 8 parameters,\n",
    "Here we are going to see function which takes upto 3 parameters, by using Function3 interface."
   ]
  },
  {
   "cell_type": "code",
   "execution_count": 21,
   "metadata": {},
   "outputs": [
    {
     "data": {
      "text/plain": [
       "64"
      ]
     },
     "execution_count": 21,
     "metadata": {},
     "output_type": "execute_result"
    }
   ],
   "source": [
    "import io.vavr.Function1;\n",
    "\n",
    "Function1<Integer, Integer> pow = (n) -> n * n;\n",
    "\n",
    "pow.apply(8)\n",
    "\n",
    "    "
   ]
  },
  {
   "cell_type": "markdown",
   "metadata": {},
   "source": [
    "You can read above code as:\n",
    "Right hand side expression is a lambda expression which can be assigned to a functional interface, pow. \n",
    "And pow is a function which takes an integer as argument and returns result as integer.\n",
    "And pow function is applied to the argument 8, which returns 64 as result"
   ]
  },
  {
   "cell_type": "markdown",
   "metadata": {},
   "source": [
    "##### Applying Function2 to return custom objects"
   ]
  },
  {
   "cell_type": "code",
   "execution_count": 22,
   "metadata": {},
   "outputs": [],
   "source": [
    "private static class Employee {\n",
    "        Integer empId;\n",
    "        String empName;\n",
    "\n",
    "        Employee(Integer id, String name){\n",
    "            this.empId = id;\n",
    "            this.empName = name;\n",
    "        }\n",
    "\n",
    "        @Override\n",
    "        public String toString() {\n",
    "            return \"Name = \" + empName + \" id = \" + empId;\n",
    "        }\n",
    "    }"
   ]
  },
  {
   "cell_type": "code",
   "execution_count": 23,
   "metadata": {
    "scrolled": true
   },
   "outputs": [
    {
     "name": "stdout",
     "output_type": "stream",
     "text": [
      "Name = John Doe id = 33\n"
     ]
    }
   ],
   "source": [
    "import io.vavr.*;\n",
    "\n",
    "Function2<Integer, String, Employee> takeIntStrReturnEmployee = ( i , s ) -> ( new Employee(i, s));\n",
    "\n",
    "System.out.println(takeIntStrReturnEmployee.apply(33, \"John Doe\").toString());\n"
   ]
  },
  {
   "cell_type": "markdown",
   "metadata": {},
   "source": [
    "##### Creating a function using Static Factory Method on Method Reference"
   ]
  },
  {
   "cell_type": "code",
   "execution_count": 24,
   "metadata": {},
   "outputs": [
    {
     "name": "stdout",
     "output_type": "stream",
     "text": [
      "Name = John Dash id = 22\n"
     ]
    }
   ],
   "source": [
    "Function2<Integer,String,Employee> employeeCreator = Function2.of(takeIntStrReturnEmployee);\n",
    "\n",
    "System.out.println(employeeCreator.apply(22).apply(\"John Dash\").toString());\n"
   ]
  },
  {
   "cell_type": "markdown",
   "metadata": {},
   "source": [
    "#### Features of VAVR Functional Interfaces\n",
    "\n",
    "* Composition\n",
    "* Lifting\n",
    "* Currying\n",
    "* Memoization\n",
    "\n"
   ]
  },
  {
   "cell_type": "markdown",
   "metadata": {},
   "source": [
    "##### Composition\n",
    "\n",
    "* Composition allows to compose functions with existing functions ( something like: take 2 functions operating with common types and then extract a 3rd function )\n",
    "* The functions f : X → Y and g : Y → Z can be composed to yield a function h: g(f(x)) which maps X → Z.\n",
    "* For composition, you can use andThen() or compose()"
   ]
  },
  {
   "cell_type": "markdown",
   "metadata": {},
   "source": [
    "###### andThen() example"
   ]
  },
  {
   "cell_type": "code",
   "execution_count": 25,
   "metadata": {},
   "outputs": [
    {
     "data": {
      "text/plain": [
       "69"
      ]
     },
     "execution_count": 25,
     "metadata": {},
     "output_type": "execute_result"
    }
   ],
   "source": [
    "\n",
    "Function1<Integer, Integer> multiplyBy3 = i -> i*3; // f: X -> Y\n",
    "Function1<Integer, Integer> addWith1 = i -> i + 1;  // g: Y -> Z\n",
    "\n",
    "// h: g(f(x)) which maps X -> Z\n",
    "Function1<Integer, Integer> addWith1AndMultiplyBy3 = addWith1.andThen(multiplyBy3);\n",
    "\n",
    "addWith1AndMultiplyBy3.apply(22)   \n"
   ]
  },
  {
   "cell_type": "markdown",
   "metadata": {},
   "source": [
    "###### compose() example"
   ]
  },
  {
   "cell_type": "code",
   "execution_count": 26,
   "metadata": {},
   "outputs": [
    {
     "name": "stdout",
     "output_type": "stream",
     "text": [
      "69\n"
     ]
    }
   ],
   "source": [
    "Function1<Integer,Integer> addWith1AndMultipleBy3Compose = multiplyBy3.compose(addWith1); // g(f(x))\n",
    "        System.out.println(addWith1AndMultipleBy3Compose.apply(22));\n"
   ]
  },
  {
   "cell_type": "markdown",
   "metadata": {},
   "source": [
    "###### andThen() another example"
   ]
  },
  {
   "cell_type": "code",
   "execution_count": 27,
   "metadata": {},
   "outputs": [
    {
     "data": {
      "text/plain": [
       "64"
      ]
     },
     "execution_count": 27,
     "metadata": {},
     "output_type": "execute_result"
    }
   ],
   "source": [
    "import io.vavr.Function3;\n",
    "Function3<Integer, Integer, Integer, Integer> multiply = (n1, n2, n3) -> n1 * n2 * n3;\n",
    "\n",
    "multiply.andThen(pow).apply(2,2,2)\n"
   ]
  },
  {
   "cell_type": "markdown",
   "metadata": {},
   "source": [
    "You can read above code as: Right hand expression is a lambda expression, which takes 3 parameters and multiplies them with each other. And that lambda expression is assigned to a functional interface Function3, which expresses a function which takes 3 arguments and returns a result which is Integer.\n",
    "\n",
    "So, we first apply multiply onto the arguments (2,2,2) and then we apply pow onto the resultant of multiply call."
   ]
  },
  {
   "cell_type": "markdown",
   "metadata": {},
   "source": [
    "##### Lifting\n",
    "\n",
    "* Lifting generally means that you are lifting something up ( assuming gravity is there :) )\n",
    "* Here, in context of VAVR functions, lifting means that, we can lift partial function to the level of total functions.\n",
    "* Hey, so what is total and what is partial?\n",
    "* Imagine that you have a function which operates on input values. Imagine also that the function cannot handle certain values from input. When it encounter those values, it says: exception. This function falls into category of partial function.\n",
    "* ( Slowly imagine how you can lift partial function to the level of Total function )\n",
    "* So, now you are the point where you ask: Tell me how do you lift, I just want that.\n",
    "\n"
   ]
  },
  {
   "cell_type": "code",
   "execution_count": 28,
   "metadata": {},
   "outputs": [
    {
     "data": {
      "text/plain": [
       "0"
      ]
     },
     "execution_count": 28,
     "metadata": {},
     "output_type": "execute_result"
    }
   ],
   "source": [
    "import io.vavr.*;\n",
    "\n",
    "Function2<Integer, Integer, Integer> divide = (a, b) -> a / b;\n",
    "divide.apply(2,3)"
   ]
  },
  {
   "cell_type": "code",
   "execution_count": 29,
   "metadata": {},
   "outputs": [
    {
     "ename": "EvalException",
     "evalue": "/ by zero",
     "output_type": "error",
     "traceback": [
      "\u001b[1m\u001b[31m---------------------------------------------------------------------------\u001b[0m",
      "\u001b[1m\u001b[31mjava.lang.ArithmeticException: / by zero\u001b[0m",
      "\u001b[1m\u001b[31m\tat .lambda$do_it$$b087ff39$1(#90:1)\u001b[0m",
      "\u001b[1m\u001b[31m\tat .(#92:1)\u001b[0m"
     ]
    }
   ],
   "source": [
    "divide.apply(1,0)"
   ]
  },
  {
   "cell_type": "code",
   "execution_count": 30,
   "metadata": {},
   "outputs": [
    {
     "data": {
      "text/plain": [
       "None"
      ]
     },
     "execution_count": 30,
     "metadata": {},
     "output_type": "execute_result"
    }
   ],
   "source": [
    "// Let us make the divide function safe by lifting, using help of Option construct\n",
    "import io.vavr.*;\n",
    "Function2<Integer, Integer, Option<Integer>> safeDivide = Function2.lift(divide);\n",
    "\n",
    "Option<Integer> i1 = safeDivide.apply(1, 0);\n",
    "\n",
    "i1"
   ]
  },
  {
   "cell_type": "code",
   "execution_count": 31,
   "metadata": {},
   "outputs": [
    {
     "data": {
      "text/plain": [
       "Some(2)"
      ]
     },
     "execution_count": 31,
     "metadata": {},
     "output_type": "execute_result"
    }
   ],
   "source": [
    "// = Some(2)\n",
    "Option<Integer> i2 = safeDivide.apply(4, 2);\n",
    "i2"
   ]
  },
  {
   "cell_type": "markdown",
   "metadata": {},
   "source": [
    "* Lifted function, when it encounters invalid input values, returns None and does not throw exception\n",
    "* Lifted function, when it encounters valid input values, returns Some(Value)"
   ]
  },
  {
   "cell_type": "markdown",
   "metadata": {},
   "source": [
    "##### Partial Application\n",
    "\n",
    "* Let's say, you have a function, for eg FunctionA which takes 4 parameters.\n",
    "* Imagine that you want to still use FunctionA, but the condition that, 2 parameters are taken from the user and 2 parameters are having fixed values set always.\n",
    "* From the above step, we can see that FunctionA makes it possible to derive another FunctionB out of it.\n",
    "* With Partial Application, we can derive functions out of existing functions, by fixing some parameter values.\n",
    "\n"
   ]
  },
  {
   "cell_type": "code",
   "execution_count": 32,
   "metadata": {},
   "outputs": [
    {
     "data": {
      "text/plain": [
       "13"
      ]
     },
     "execution_count": 32,
     "metadata": {},
     "output_type": "execute_result"
    }
   ],
   "source": [
    "Function5<Integer, Integer, Integer, Integer, Integer, Integer> sum = (a, b, c, d, e) -> a + b + c + d + e;\n",
    "Function2<Integer, Integer, Integer> add6 = sum.apply(2, 3, 1); \n",
    "\n",
    "sum.apply(2,3,1,4,3)"
   ]
  },
  {
   "cell_type": "code",
   "execution_count": 33,
   "metadata": {},
   "outputs": [
    {
     "data": {
      "text/plain": [
       "13"
      ]
     },
     "execution_count": 33,
     "metadata": {},
     "output_type": "execute_result"
    }
   ],
   "source": [
    "add6.apply(4, 3) // you can see that 2,3,1 are fixed parameters"
   ]
  },
  {
   "cell_type": "markdown",
   "metadata": {},
   "source": [
    "* Please note that fixing parameters happens from left to right. So, if we fix 2 parameters out of 6, it means that first 2 parameters are fixed."
   ]
  },
  {
   "cell_type": "markdown",
   "metadata": {},
   "source": [
    "##### Currying\n",
    "\n",
    "* Currying and Partial Application is almost same. It means that we are deriving functions out of existing functions, by fixing values out of parameters. \n",
    "* The difference is that Currying (curried()) generates a Function. Given a higher level function, currying generates a Function1, which returns a Function1 and so on..\n",
    "* Imagine you have a parent Function4 ( it takes 4 parameters and returns a result ). If you apply currying, then it will return a \n",
    "\n",
    "\n",
    "* Function1 which takes one input, ( returns another \n",
    "* Function1 which takes one input, ( returns another \n",
    "* Function1 which takes one input, ( returns another\n",
    "* Function1 which takes one input, ( returns a value )\n",
    "\n"
   ]
  },
  {
   "cell_type": "code",
   "execution_count": 34,
   "metadata": {},
   "outputs": [],
   "source": [
    "Function5<Integer, Integer, Integer, Integer, Integer, Integer> takes5ReturnsValue\n",
    "    = (a, b, c, d,e) -> a+b+c+d+e;\n",
    "\n",
    "final Function1<Integer, Function1<Integer, Function1<Integer, Function1<Integer, Integer>>>> function1 \n",
    "  = takes5ReturnsValue.curried().apply(3);\n"
   ]
  },
  {
   "cell_type": "code",
   "execution_count": 35,
   "metadata": {},
   "outputs": [
    {
     "data": {
      "text/plain": [
       "11"
      ]
     },
     "execution_count": 35,
     "metadata": {},
     "output_type": "execute_result"
    }
   ],
   "source": [
    "function1.apply(2).apply(2).apply(2).apply(2)"
   ]
  },
  {
   "cell_type": "markdown",
   "metadata": {},
   "source": [
    "##### Memoization\n",
    "\n",
    "* Memoization is a form of caching.\n",
    "* The function executes only once and returns the cached value in further invocations.\n",
    "\n"
   ]
  },
  {
   "cell_type": "code",
   "execution_count": 36,
   "metadata": {},
   "outputs": [
    {
     "data": {
      "text/plain": [
       "true"
      ]
     },
     "execution_count": 36,
     "metadata": {},
     "output_type": "execute_result"
    }
   ],
   "source": [
    "Function0<Double> hashCache =\n",
    "        Function0.of(Math::random).memoized();\n",
    "\n",
    "double randomValue1 = hashCache.apply();\n",
    "double randomValue2 = hashCache.apply();\n",
    "\n",
    "randomValue1 == randomValue2"
   ]
  },
  {
   "cell_type": "markdown",
   "metadata": {},
   "source": [
    "### Co(o)llections\n",
    "\n",
    "![VAVR DataTypes Heirarchy](images/vavr-overview.png)"
   ]
  },
  {
   "cell_type": "markdown",
   "metadata": {},
   "source": [
    "##### List\n",
    "\n",
    "* Vavr’s List is an immutable linked list. Mutations create new instances.\n",
    "* Data is shared across different versions of the instances in memory."
   ]
  },
  {
   "cell_type": "code",
   "execution_count": 37,
   "metadata": {},
   "outputs": [
    {
     "data": {
      "text/plain": [
       "6"
      ]
     },
     "execution_count": 37,
     "metadata": {},
     "output_type": "execute_result"
    }
   ],
   "source": [
    "import io.vavr.collection.List;\n",
    "List.of(1, 2, 3).sum();"
   ]
  },
  {
   "cell_type": "code",
   "execution_count": 38,
   "metadata": {},
   "outputs": [],
   "source": [
    "final List<String> empty = List.empty();\n",
    "final List<String> words = List.of(\"cat\", \"dog\", \"elephant\", \"zebra\", \"horse\", \"giraffe\");"
   ]
  },
  {
   "cell_type": "code",
   "execution_count": 39,
   "metadata": {},
   "outputs": [
    {
     "data": {
      "text/plain": [
       "List(cat, horse, elephant, giraffe, dog, zebra)"
      ]
     },
     "execution_count": 39,
     "metadata": {},
     "output_type": "execute_result"
    }
   ],
   "source": [
    "words.shuffle();"
   ]
  },
  {
   "cell_type": "code",
   "execution_count": 40,
   "metadata": {},
   "outputs": [
    {
     "data": {
      "text/plain": [
       "List(horse, dog, cat, elephant, giraffe, zebra)"
      ]
     },
     "execution_count": 40,
     "metadata": {},
     "output_type": "execute_result"
    }
   ],
   "source": [
    "words.shuffle();"
   ]
  },
  {
   "cell_type": "code",
   "execution_count": 41,
   "metadata": {},
   "outputs": [
    {
     "name": "stdout",
     "output_type": "stream",
     "text": [
      "List(cat, dog, elephant, zebra, horse, giraffe)\n",
      "List(cat, dog, elephant, zebra, giraffe, horse)\n",
      "List(cat, dog, elephant, horse, zebra, giraffe)\n",
      "List(cat, dog, elephant, horse, giraffe, zebra)\n",
      "List(cat, dog, elephant, giraffe, zebra, horse)\n",
      "List(cat, dog, elephant, giraffe, horse, zebra)\n",
      "List(cat, dog, zebra, elephant, horse, giraffe)\n",
      "List(cat, dog, zebra, elephant, giraffe, horse)\n",
      "List(cat, dog, zebra, horse, elephant, giraffe)\n",
      "List(cat, dog, zebra, horse, giraffe, elephant)\n",
      "List(cat, dog, zebra, giraffe, elephant, horse)\n",
      "List(cat, dog, zebra, giraffe, horse, elephant)\n",
      "List(cat, dog, horse, elephant, zebra, giraffe)\n",
      "List(cat, dog, horse, elephant, giraffe, zebra)\n",
      "List(cat, dog, horse, zebra, elephant, giraffe)\n",
      "List(cat, dog, horse, zebra, giraffe, elephant)\n",
      "List(cat, dog, horse, giraffe, elephant, zebra)\n",
      "List(cat, dog, horse, giraffe, zebra, elephant)\n",
      "List(cat, dog, giraffe, elephant, zebra, horse)\n",
      "List(cat, dog, giraffe, elephant, horse, zebra)\n",
      "List(cat, dog, giraffe, zebra, elephant, horse)\n",
      "List(cat, dog, giraffe, zebra, horse, elephant)\n",
      "List(cat, dog, giraffe, horse, elephant, zebra)\n",
      "List(cat, dog, giraffe, horse, zebra, elephant)\n",
      "List(cat, elephant, dog, zebra, horse, giraffe)\n",
      "List(cat, elephant, dog, zebra, giraffe, horse)\n",
      "List(cat, elephant, dog, horse, zebra, giraffe)\n",
      "List(cat, elephant, dog, horse, giraffe, zebra)\n",
      "List(cat, elephant, dog, giraffe, zebra, horse)\n",
      "List(cat, elephant, dog, giraffe, horse, zebra)\n",
      "List(cat, elephant, zebra, dog, horse, giraffe)\n",
      "List(cat, elephant, zebra, dog, giraffe, horse)\n",
      "List(cat, elephant, zebra, horse, dog, giraffe)\n",
      "List(cat, elephant, zebra, horse, giraffe, dog)\n",
      "List(cat, elephant, zebra, giraffe, dog, horse)\n",
      "List(cat, elephant, zebra, giraffe, horse, dog)\n",
      "List(cat, elephant, horse, dog, zebra, giraffe)\n",
      "List(cat, elephant, horse, dog, giraffe, zebra)\n",
      "List(cat, elephant, horse, zebra, dog, giraffe)\n",
      "List(cat, elephant, horse, zebra, giraffe, dog)\n",
      "List(cat, elephant, horse, giraffe, dog, zebra)\n",
      "List(cat, elephant, horse, giraffe, zebra, dog)\n",
      "List(cat, elephant, giraffe, dog, zebra, horse)\n",
      "List(cat, elephant, giraffe, dog, horse, zebra)\n",
      "List(cat, elephant, giraffe, zebra, dog, horse)\n",
      "List(cat, elephant, giraffe, zebra, horse, dog)\n",
      "List(cat, elephant, giraffe, horse, dog, zebra)\n",
      "List(cat, elephant, giraffe, horse, zebra, dog)\n",
      "List(cat, zebra, dog, elephant, horse, giraffe)\n",
      "List(cat, zebra, dog, elephant, giraffe, horse)\n",
      "List(cat, zebra, dog, horse, elephant, giraffe)\n",
      "List(cat, zebra, dog, horse, giraffe, elephant)\n",
      "List(cat, zebra, dog, giraffe, elephant, horse)\n",
      "List(cat, zebra, dog, giraffe, horse, elephant)\n",
      "List(cat, zebra, elephant, dog, horse, giraffe)\n",
      "List(cat, zebra, elephant, dog, giraffe, horse)\n",
      "List(cat, zebra, elephant, horse, dog, giraffe)\n",
      "List(cat, zebra, elephant, horse, giraffe, dog)\n",
      "List(cat, zebra, elephant, giraffe, dog, horse)\n",
      "List(cat, zebra, elephant, giraffe, horse, dog)\n",
      "List(cat, zebra, horse, dog, elephant, giraffe)\n",
      "List(cat, zebra, horse, dog, giraffe, elephant)\n",
      "List(cat, zebra, horse, elephant, dog, giraffe)\n",
      "List(cat, zebra, horse, elephant, giraffe, dog)\n",
      "List(cat, zebra, horse, giraffe, dog, elephant)\n",
      "List(cat, zebra, horse, giraffe, elephant, dog)\n",
      "List(cat, zebra, giraffe, dog, elephant, horse)\n",
      "List(cat, zebra, giraffe, dog, horse, elephant)\n",
      "List(cat, zebra, giraffe, elephant, dog, horse)\n",
      "List(cat, zebra, giraffe, elephant, horse, dog)\n",
      "List(cat, zebra, giraffe, horse, dog, elephant)\n",
      "List(cat, zebra, giraffe, horse, elephant, dog)\n",
      "List(cat, horse, dog, elephant, zebra, giraffe)\n",
      "List(cat, horse, dog, elephant, giraffe, zebra)\n",
      "List(cat, horse, dog, zebra, elephant, giraffe)\n",
      "List(cat, horse, dog, zebra, giraffe, elephant)\n",
      "List(cat, horse, dog, giraffe, elephant, zebra)\n",
      "List(cat, horse, dog, giraffe, zebra, elephant)\n",
      "List(cat, horse, elephant, dog, zebra, giraffe)\n",
      "List(cat, horse, elephant, dog, giraffe, zebra)\n",
      "List(cat, horse, elephant, zebra, dog, giraffe)\n",
      "List(cat, horse, elephant, zebra, giraffe, dog)\n",
      "List(cat, horse, elephant, giraffe, dog, zebra)\n",
      "List(cat, horse, elephant, giraffe, zebra, dog)\n",
      "List(cat, horse, zebra, dog, elephant, giraffe)\n",
      "List(cat, horse, zebra, dog, giraffe, elephant)\n",
      "List(cat, horse, zebra, elephant, dog, giraffe)\n",
      "List(cat, horse, zebra, elephant, giraffe, dog)\n",
      "List(cat, horse, zebra, giraffe, dog, elephant)\n",
      "List(cat, horse, zebra, giraffe, elephant, dog)\n",
      "List(cat, horse, giraffe, dog, elephant, zebra)\n",
      "List(cat, horse, giraffe, dog, zebra, elephant)\n",
      "List(cat, horse, giraffe, elephant, dog, zebra)\n",
      "List(cat, horse, giraffe, elephant, zebra, dog)\n",
      "List(cat, horse, giraffe, zebra, dog, elephant)\n",
      "List(cat, horse, giraffe, zebra, elephant, dog)\n",
      "List(cat, giraffe, dog, elephant, zebra, horse)\n",
      "List(cat, giraffe, dog, elephant, horse, zebra)\n",
      "List(cat, giraffe, dog, zebra, elephant, horse)\n",
      "List(cat, giraffe, dog, zebra, horse, elephant)\n",
      "List(cat, giraffe, dog, horse, elephant, zebra)\n",
      "List(cat, giraffe, dog, horse, zebra, elephant)\n",
      "List(cat, giraffe, elephant, dog, zebra, horse)\n",
      "List(cat, giraffe, elephant, dog, horse, zebra)\n",
      "List(cat, giraffe, elephant, zebra, dog, horse)\n",
      "List(cat, giraffe, elephant, zebra, horse, dog)\n",
      "List(cat, giraffe, elephant, horse, dog, zebra)\n",
      "List(cat, giraffe, elephant, horse, zebra, dog)\n",
      "List(cat, giraffe, zebra, dog, elephant, horse)\n",
      "List(cat, giraffe, zebra, dog, horse, elephant)\n",
      "List(cat, giraffe, zebra, elephant, dog, horse)\n",
      "List(cat, giraffe, zebra, elephant, horse, dog)\n",
      "List(cat, giraffe, zebra, horse, dog, elephant)\n",
      "List(cat, giraffe, zebra, horse, elephant, dog)\n",
      "List(cat, giraffe, horse, dog, elephant, zebra)\n",
      "List(cat, giraffe, horse, dog, zebra, elephant)\n",
      "List(cat, giraffe, horse, elephant, dog, zebra)\n",
      "List(cat, giraffe, horse, elephant, zebra, dog)\n",
      "List(cat, giraffe, horse, zebra, dog, elephant)\n",
      "List(cat, giraffe, horse, zebra, elephant, dog)\n",
      "List(dog, cat, elephant, zebra, horse, giraffe)\n",
      "List(dog, cat, elephant, zebra, giraffe, horse)\n",
      "List(dog, cat, elephant, horse, zebra, giraffe)\n",
      "List(dog, cat, elephant, horse, giraffe, zebra)\n",
      "List(dog, cat, elephant, giraffe, zebra, horse)\n",
      "List(dog, cat, elephant, giraffe, horse, zebra)\n",
      "List(dog, cat, zebra, elephant, horse, giraffe)\n",
      "List(dog, cat, zebra, elephant, giraffe, horse)\n",
      "List(dog, cat, zebra, horse, elephant, giraffe)\n",
      "List(dog, cat, zebra, horse, giraffe, elephant)\n",
      "List(dog, cat, zebra, giraffe, elephant, horse)\n",
      "List(dog, cat, zebra, giraffe, horse, elephant)\n",
      "List(dog, cat, horse, elephant, zebra, giraffe)\n",
      "List(dog, cat, horse, elephant, giraffe, zebra)\n",
      "List(dog, cat, horse, zebra, elephant, giraffe)\n",
      "List(dog, cat, horse, zebra, giraffe, elephant)\n",
      "List(dog, cat, horse, giraffe, elephant, zebra)\n",
      "List(dog, cat, horse, giraffe, zebra, elephant)\n",
      "List(dog, cat, giraffe, elephant, zebra, horse)\n",
      "List(dog, cat, giraffe, elephant, horse, zebra)\n",
      "List(dog, cat, giraffe, zebra, elephant, horse)\n",
      "List(dog, cat, giraffe, zebra, horse, elephant)\n",
      "List(dog, cat, giraffe, horse, elephant, zebra)\n",
      "List(dog, cat, giraffe, horse, zebra, elephant)\n",
      "List(dog, elephant, cat, zebra, horse, giraffe)\n",
      "List(dog, elephant, cat, zebra, giraffe, horse)\n",
      "List(dog, elephant, cat, horse, zebra, giraffe)\n",
      "List(dog, elephant, cat, horse, giraffe, zebra)\n",
      "List(dog, elephant, cat, giraffe, zebra, horse)\n",
      "List(dog, elephant, cat, giraffe, horse, zebra)\n",
      "List(dog, elephant, zebra, cat, horse, giraffe)\n",
      "List(dog, elephant, zebra, cat, giraffe, horse)\n",
      "List(dog, elephant, zebra, horse, cat, giraffe)\n",
      "List(dog, elephant, zebra, horse, giraffe, cat)\n",
      "List(dog, elephant, zebra, giraffe, cat, horse)\n",
      "List(dog, elephant, zebra, giraffe, horse, cat)\n",
      "List(dog, elephant, horse, cat, zebra, giraffe)\n",
      "List(dog, elephant, horse, cat, giraffe, zebra)\n",
      "List(dog, elephant, horse, zebra, cat, giraffe)\n",
      "List(dog, elephant, horse, zebra, giraffe, cat)\n",
      "List(dog, elephant, horse, giraffe, cat, zebra)\n",
      "List(dog, elephant, horse, giraffe, zebra, cat)\n",
      "List(dog, elephant, giraffe, cat, zebra, horse)\n",
      "List(dog, elephant, giraffe, cat, horse, zebra)\n",
      "List(dog, elephant, giraffe, zebra, cat, horse)\n",
      "List(dog, elephant, giraffe, zebra, horse, cat)\n",
      "List(dog, elephant, giraffe, horse, cat, zebra)\n",
      "List(dog, elephant, giraffe, horse, zebra, cat)\n",
      "List(dog, zebra, cat, elephant, horse, giraffe)\n",
      "List(dog, zebra, cat, elephant, giraffe, horse)\n",
      "List(dog, zebra, cat, horse, elephant, giraffe)\n",
      "List(dog, zebra, cat, horse, giraffe, elephant)\n",
      "List(dog, zebra, cat, giraffe, elephant, horse)\n",
      "List(dog, zebra, cat, giraffe, horse, elephant)\n",
      "List(dog, zebra, elephant, cat, horse, giraffe)\n",
      "List(dog, zebra, elephant, cat, giraffe, horse)\n",
      "List(dog, zebra, elephant, horse, cat, giraffe)\n",
      "List(dog, zebra, elephant, horse, giraffe, cat)\n",
      "List(dog, zebra, elephant, giraffe, cat, horse)\n",
      "List(dog, zebra, elephant, giraffe, horse, cat)\n",
      "List(dog, zebra, horse, cat, elephant, giraffe)\n",
      "List(dog, zebra, horse, cat, giraffe, elephant)\n",
      "List(dog, zebra, horse, elephant, cat, giraffe)\n",
      "List(dog, zebra, horse, elephant, giraffe, cat)\n",
      "List(dog, zebra, horse, giraffe, cat, elephant)\n",
      "List(dog, zebra, horse, giraffe, elephant, cat)\n",
      "List(dog, zebra, giraffe, cat, elephant, horse)\n",
      "List(dog, zebra, giraffe, cat, horse, elephant)\n",
      "List(dog, zebra, giraffe, elephant, cat, horse)\n",
      "List(dog, zebra, giraffe, elephant, horse, cat)\n",
      "List(dog, zebra, giraffe, horse, cat, elephant)\n",
      "List(dog, zebra, giraffe, horse, elephant, cat)\n",
      "List(dog, horse, cat, elephant, zebra, giraffe)\n",
      "List(dog, horse, cat, elephant, giraffe, zebra)\n",
      "List(dog, horse, cat, zebra, elephant, giraffe)\n",
      "List(dog, horse, cat, zebra, giraffe, elephant)\n",
      "List(dog, horse, cat, giraffe, elephant, zebra)\n",
      "List(dog, horse, cat, giraffe, zebra, elephant)\n",
      "List(dog, horse, elephant, cat, zebra, giraffe)\n",
      "List(dog, horse, elephant, cat, giraffe, zebra)\n",
      "List(dog, horse, elephant, zebra, cat, giraffe)\n",
      "List(dog, horse, elephant, zebra, giraffe, cat)\n",
      "List(dog, horse, elephant, giraffe, cat, zebra)\n",
      "List(dog, horse, elephant, giraffe, zebra, cat)\n",
      "List(dog, horse, zebra, cat, elephant, giraffe)\n",
      "List(dog, horse, zebra, cat, giraffe, elephant)\n",
      "List(dog, horse, zebra, elephant, cat, giraffe)\n",
      "List(dog, horse, zebra, elephant, giraffe, cat)\n",
      "List(dog, horse, zebra, giraffe, cat, elephant)\n",
      "List(dog, horse, zebra, giraffe, elephant, cat)\n",
      "List(dog, horse, giraffe, cat, elephant, zebra)\n",
      "List(dog, horse, giraffe, cat, zebra, elephant)\n",
      "List(dog, horse, giraffe, elephant, cat, zebra)\n",
      "List(dog, horse, giraffe, elephant, zebra, cat)\n",
      "List(dog, horse, giraffe, zebra, cat, elephant)\n",
      "List(dog, horse, giraffe, zebra, elephant, cat)\n",
      "List(dog, giraffe, cat, elephant, zebra, horse)\n",
      "List(dog, giraffe, cat, elephant, horse, zebra)\n",
      "List(dog, giraffe, cat, zebra, elephant, horse)\n",
      "List(dog, giraffe, cat, zebra, horse, elephant)\n",
      "List(dog, giraffe, cat, horse, elephant, zebra)\n",
      "List(dog, giraffe, cat, horse, zebra, elephant)\n",
      "List(dog, giraffe, elephant, cat, zebra, horse)\n",
      "List(dog, giraffe, elephant, cat, horse, zebra)\n",
      "List(dog, giraffe, elephant, zebra, cat, horse)\n",
      "List(dog, giraffe, elephant, zebra, horse, cat)\n",
      "List(dog, giraffe, elephant, horse, cat, zebra)\n",
      "List(dog, giraffe, elephant, horse, zebra, cat)\n",
      "List(dog, giraffe, zebra, cat, elephant, horse)\n",
      "List(dog, giraffe, zebra, cat, horse, elephant)\n",
      "List(dog, giraffe, zebra, elephant, cat, horse)\n",
      "List(dog, giraffe, zebra, elephant, horse, cat)\n",
      "List(dog, giraffe, zebra, horse, cat, elephant)\n",
      "List(dog, giraffe, zebra, horse, elephant, cat)\n",
      "List(dog, giraffe, horse, cat, elephant, zebra)\n",
      "List(dog, giraffe, horse, cat, zebra, elephant)\n",
      "List(dog, giraffe, horse, elephant, cat, zebra)\n",
      "List(dog, giraffe, horse, elephant, zebra, cat)\n",
      "List(dog, giraffe, horse, zebra, cat, elephant)\n",
      "List(dog, giraffe, horse, zebra, elephant, cat)\n",
      "List(elephant, cat, dog, zebra, horse, giraffe)\n",
      "List(elephant, cat, dog, zebra, giraffe, horse)\n",
      "List(elephant, cat, dog, horse, zebra, giraffe)\n",
      "List(elephant, cat, dog, horse, giraffe, zebra)\n",
      "List(elephant, cat, dog, giraffe, zebra, horse)\n",
      "List(elephant, cat, dog, giraffe, horse, zebra)\n",
      "List(elephant, cat, zebra, dog, horse, giraffe)\n",
      "List(elephant, cat, zebra, dog, giraffe, horse)\n",
      "List(elephant, cat, zebra, horse, dog, giraffe)\n",
      "List(elephant, cat, zebra, horse, giraffe, dog)\n",
      "List(elephant, cat, zebra, giraffe, dog, horse)\n",
      "List(elephant, cat, zebra, giraffe, horse, dog)\n",
      "List(elephant, cat, horse, dog, zebra, giraffe)\n",
      "List(elephant, cat, horse, dog, giraffe, zebra)\n",
      "List(elephant, cat, horse, zebra, dog, giraffe)\n",
      "List(elephant, cat, horse, zebra, giraffe, dog)\n",
      "List(elephant, cat, horse, giraffe, dog, zebra)\n",
      "List(elephant, cat, horse, giraffe, zebra, dog)\n",
      "List(elephant, cat, giraffe, dog, zebra, horse)\n",
      "List(elephant, cat, giraffe, dog, horse, zebra)\n",
      "List(elephant, cat, giraffe, zebra, dog, horse)\n",
      "List(elephant, cat, giraffe, zebra, horse, dog)\n",
      "List(elephant, cat, giraffe, horse, dog, zebra)\n",
      "List(elephant, cat, giraffe, horse, zebra, dog)\n",
      "List(elephant, dog, cat, zebra, horse, giraffe)\n",
      "List(elephant, dog, cat, zebra, giraffe, horse)\n",
      "List(elephant, dog, cat, horse, zebra, giraffe)\n",
      "List(elephant, dog, cat, horse, giraffe, zebra)\n",
      "List(elephant, dog, cat, giraffe, zebra, horse)\n",
      "List(elephant, dog, cat, giraffe, horse, zebra)\n",
      "List(elephant, dog, zebra, cat, horse, giraffe)\n",
      "List(elephant, dog, zebra, cat, giraffe, horse)\n",
      "List(elephant, dog, zebra, horse, cat, giraffe)\n",
      "List(elephant, dog, zebra, horse, giraffe, cat)\n",
      "List(elephant, dog, zebra, giraffe, cat, horse)\n",
      "List(elephant, dog, zebra, giraffe, horse, cat)\n",
      "List(elephant, dog, horse, cat, zebra, giraffe)\n",
      "List(elephant, dog, horse, cat, giraffe, zebra)\n",
      "List(elephant, dog, horse, zebra, cat, giraffe)\n",
      "List(elephant, dog, horse, zebra, giraffe, cat)\n",
      "List(elephant, dog, horse, giraffe, cat, zebra)\n",
      "List(elephant, dog, horse, giraffe, zebra, cat)\n",
      "List(elephant, dog, giraffe, cat, zebra, horse)\n",
      "List(elephant, dog, giraffe, cat, horse, zebra)\n",
      "List(elephant, dog, giraffe, zebra, cat, horse)\n",
      "List(elephant, dog, giraffe, zebra, horse, cat)\n",
      "List(elephant, dog, giraffe, horse, cat, zebra)\n",
      "List(elephant, dog, giraffe, horse, zebra, cat)\n",
      "List(elephant, zebra, cat, dog, horse, giraffe)\n",
      "List(elephant, zebra, cat, dog, giraffe, horse)\n",
      "List(elephant, zebra, cat, horse, dog, giraffe)\n",
      "List(elephant, zebra, cat, horse, giraffe, dog)\n",
      "List(elephant, zebra, cat, giraffe, dog, horse)\n",
      "List(elephant, zebra, cat, giraffe, horse, dog)\n",
      "List(elephant, zebra, dog, cat, horse, giraffe)\n",
      "List(elephant, zebra, dog, cat, giraffe, horse)\n",
      "List(elephant, zebra, dog, horse, cat, giraffe)\n",
      "List(elephant, zebra, dog, horse, giraffe, cat)\n",
      "List(elephant, zebra, dog, giraffe, cat, horse)\n",
      "List(elephant, zebra, dog, giraffe, horse, cat)\n",
      "List(elephant, zebra, horse, cat, dog, giraffe)\n",
      "List(elephant, zebra, horse, cat, giraffe, dog)\n",
      "List(elephant, zebra, horse, dog, cat, giraffe)\n",
      "List(elephant, zebra, horse, dog, giraffe, cat)\n",
      "List(elephant, zebra, horse, giraffe, cat, dog)\n",
      "List(elephant, zebra, horse, giraffe, dog, cat)\n",
      "List(elephant, zebra, giraffe, cat, dog, horse)\n",
      "List(elephant, zebra, giraffe, cat, horse, dog)\n",
      "List(elephant, zebra, giraffe, dog, cat, horse)\n",
      "List(elephant, zebra, giraffe, dog, horse, cat)\n",
      "List(elephant, zebra, giraffe, horse, cat, dog)\n",
      "List(elephant, zebra, giraffe, horse, dog, cat)\n",
      "List(elephant, horse, cat, dog, zebra, giraffe)\n",
      "List(elephant, horse, cat, dog, giraffe, zebra)\n",
      "List(elephant, horse, cat, zebra, dog, giraffe)\n",
      "List(elephant, horse, cat, zebra, giraffe, dog)\n",
      "List(elephant, horse, cat, giraffe, dog, zebra)\n",
      "List(elephant, horse, cat, giraffe, zebra, dog)\n",
      "List(elephant, horse, dog, cat, zebra, giraffe)\n",
      "List(elephant, horse, dog, cat, giraffe, zebra)\n",
      "List(elephant, horse, dog, zebra, cat, giraffe)\n",
      "List(elephant, horse, dog, zebra, giraffe, cat)\n",
      "List(elephant, horse, dog, giraffe, cat, zebra)\n",
      "List(elephant, horse, dog, giraffe, zebra, cat)\n",
      "List(elephant, horse, zebra, cat, dog, giraffe)\n",
      "List(elephant, horse, zebra, cat, giraffe, dog)\n",
      "List(elephant, horse, zebra, dog, cat, giraffe)\n",
      "List(elephant, horse, zebra, dog, giraffe, cat)\n",
      "List(elephant, horse, zebra, giraffe, cat, dog)\n",
      "List(elephant, horse, zebra, giraffe, dog, cat)\n",
      "List(elephant, horse, giraffe, cat, dog, zebra)\n",
      "List(elephant, horse, giraffe, cat, zebra, dog)\n",
      "List(elephant, horse, giraffe, dog, cat, zebra)\n",
      "List(elephant, horse, giraffe, dog, zebra, cat)\n",
      "List(elephant, horse, giraffe, zebra, cat, dog)\n",
      "List(elephant, horse, giraffe, zebra, dog, cat)\n",
      "List(elephant, giraffe, cat, dog, zebra, horse)\n",
      "List(elephant, giraffe, cat, dog, horse, zebra)\n",
      "List(elephant, giraffe, cat, zebra, dog, horse)\n",
      "List(elephant, giraffe, cat, zebra, horse, dog)\n"
     ]
    },
    {
     "name": "stdout",
     "output_type": "stream",
     "text": [
      "List(elephant, giraffe, cat, horse, dog, zebra)\n",
      "List(elephant, giraffe, cat, horse, zebra, dog)\n",
      "List(elephant, giraffe, dog, cat, zebra, horse)\n",
      "List(elephant, giraffe, dog, cat, horse, zebra)\n",
      "List(elephant, giraffe, dog, zebra, cat, horse)\n",
      "List(elephant, giraffe, dog, zebra, horse, cat)\n",
      "List(elephant, giraffe, dog, horse, cat, zebra)\n",
      "List(elephant, giraffe, dog, horse, zebra, cat)\n",
      "List(elephant, giraffe, zebra, cat, dog, horse)\n",
      "List(elephant, giraffe, zebra, cat, horse, dog)\n",
      "List(elephant, giraffe, zebra, dog, cat, horse)\n",
      "List(elephant, giraffe, zebra, dog, horse, cat)\n",
      "List(elephant, giraffe, zebra, horse, cat, dog)\n",
      "List(elephant, giraffe, zebra, horse, dog, cat)\n",
      "List(elephant, giraffe, horse, cat, dog, zebra)\n",
      "List(elephant, giraffe, horse, cat, zebra, dog)\n",
      "List(elephant, giraffe, horse, dog, cat, zebra)\n",
      "List(elephant, giraffe, horse, dog, zebra, cat)\n",
      "List(elephant, giraffe, horse, zebra, cat, dog)\n",
      "List(elephant, giraffe, horse, zebra, dog, cat)\n",
      "List(zebra, cat, dog, elephant, horse, giraffe)\n",
      "List(zebra, cat, dog, elephant, giraffe, horse)\n",
      "List(zebra, cat, dog, horse, elephant, giraffe)\n",
      "List(zebra, cat, dog, horse, giraffe, elephant)\n",
      "List(zebra, cat, dog, giraffe, elephant, horse)\n",
      "List(zebra, cat, dog, giraffe, horse, elephant)\n",
      "List(zebra, cat, elephant, dog, horse, giraffe)\n",
      "List(zebra, cat, elephant, dog, giraffe, horse)\n",
      "List(zebra, cat, elephant, horse, dog, giraffe)\n",
      "List(zebra, cat, elephant, horse, giraffe, dog)\n",
      "List(zebra, cat, elephant, giraffe, dog, horse)\n",
      "List(zebra, cat, elephant, giraffe, horse, dog)\n",
      "List(zebra, cat, horse, dog, elephant, giraffe)\n",
      "List(zebra, cat, horse, dog, giraffe, elephant)\n",
      "List(zebra, cat, horse, elephant, dog, giraffe)\n",
      "List(zebra, cat, horse, elephant, giraffe, dog)\n",
      "List(zebra, cat, horse, giraffe, dog, elephant)\n",
      "List(zebra, cat, horse, giraffe, elephant, dog)\n",
      "List(zebra, cat, giraffe, dog, elephant, horse)\n",
      "List(zebra, cat, giraffe, dog, horse, elephant)\n",
      "List(zebra, cat, giraffe, elephant, dog, horse)\n",
      "List(zebra, cat, giraffe, elephant, horse, dog)\n",
      "List(zebra, cat, giraffe, horse, dog, elephant)\n",
      "List(zebra, cat, giraffe, horse, elephant, dog)\n",
      "List(zebra, dog, cat, elephant, horse, giraffe)\n",
      "List(zebra, dog, cat, elephant, giraffe, horse)\n",
      "List(zebra, dog, cat, horse, elephant, giraffe)\n",
      "List(zebra, dog, cat, horse, giraffe, elephant)\n",
      "List(zebra, dog, cat, giraffe, elephant, horse)\n",
      "List(zebra, dog, cat, giraffe, horse, elephant)\n",
      "List(zebra, dog, elephant, cat, horse, giraffe)\n",
      "List(zebra, dog, elephant, cat, giraffe, horse)\n",
      "List(zebra, dog, elephant, horse, cat, giraffe)\n",
      "List(zebra, dog, elephant, horse, giraffe, cat)\n",
      "List(zebra, dog, elephant, giraffe, cat, horse)\n",
      "List(zebra, dog, elephant, giraffe, horse, cat)\n",
      "List(zebra, dog, horse, cat, elephant, giraffe)\n",
      "List(zebra, dog, horse, cat, giraffe, elephant)\n",
      "List(zebra, dog, horse, elephant, cat, giraffe)\n",
      "List(zebra, dog, horse, elephant, giraffe, cat)\n",
      "List(zebra, dog, horse, giraffe, cat, elephant)\n",
      "List(zebra, dog, horse, giraffe, elephant, cat)\n",
      "List(zebra, dog, giraffe, cat, elephant, horse)\n",
      "List(zebra, dog, giraffe, cat, horse, elephant)\n",
      "List(zebra, dog, giraffe, elephant, cat, horse)\n",
      "List(zebra, dog, giraffe, elephant, horse, cat)\n",
      "List(zebra, dog, giraffe, horse, cat, elephant)\n",
      "List(zebra, dog, giraffe, horse, elephant, cat)\n",
      "List(zebra, elephant, cat, dog, horse, giraffe)\n",
      "List(zebra, elephant, cat, dog, giraffe, horse)\n",
      "List(zebra, elephant, cat, horse, dog, giraffe)\n",
      "List(zebra, elephant, cat, horse, giraffe, dog)\n",
      "List(zebra, elephant, cat, giraffe, dog, horse)\n",
      "List(zebra, elephant, cat, giraffe, horse, dog)\n",
      "List(zebra, elephant, dog, cat, horse, giraffe)\n",
      "List(zebra, elephant, dog, cat, giraffe, horse)\n",
      "List(zebra, elephant, dog, horse, cat, giraffe)\n",
      "List(zebra, elephant, dog, horse, giraffe, cat)\n",
      "List(zebra, elephant, dog, giraffe, cat, horse)\n",
      "List(zebra, elephant, dog, giraffe, horse, cat)\n",
      "List(zebra, elephant, horse, cat, dog, giraffe)\n",
      "List(zebra, elephant, horse, cat, giraffe, dog)\n",
      "List(zebra, elephant, horse, dog, cat, giraffe)\n",
      "List(zebra, elephant, horse, dog, giraffe, cat)\n",
      "List(zebra, elephant, horse, giraffe, cat, dog)\n",
      "List(zebra, elephant, horse, giraffe, dog, cat)\n",
      "List(zebra, elephant, giraffe, cat, dog, horse)\n",
      "List(zebra, elephant, giraffe, cat, horse, dog)\n",
      "List(zebra, elephant, giraffe, dog, cat, horse)\n",
      "List(zebra, elephant, giraffe, dog, horse, cat)\n",
      "List(zebra, elephant, giraffe, horse, cat, dog)\n",
      "List(zebra, elephant, giraffe, horse, dog, cat)\n",
      "List(zebra, horse, cat, dog, elephant, giraffe)\n",
      "List(zebra, horse, cat, dog, giraffe, elephant)\n",
      "List(zebra, horse, cat, elephant, dog, giraffe)\n",
      "List(zebra, horse, cat, elephant, giraffe, dog)\n",
      "List(zebra, horse, cat, giraffe, dog, elephant)\n",
      "List(zebra, horse, cat, giraffe, elephant, dog)\n",
      "List(zebra, horse, dog, cat, elephant, giraffe)\n",
      "List(zebra, horse, dog, cat, giraffe, elephant)\n",
      "List(zebra, horse, dog, elephant, cat, giraffe)\n",
      "List(zebra, horse, dog, elephant, giraffe, cat)\n",
      "List(zebra, horse, dog, giraffe, cat, elephant)\n",
      "List(zebra, horse, dog, giraffe, elephant, cat)\n",
      "List(zebra, horse, elephant, cat, dog, giraffe)\n",
      "List(zebra, horse, elephant, cat, giraffe, dog)\n",
      "List(zebra, horse, elephant, dog, cat, giraffe)\n",
      "List(zebra, horse, elephant, dog, giraffe, cat)\n",
      "List(zebra, horse, elephant, giraffe, cat, dog)\n",
      "List(zebra, horse, elephant, giraffe, dog, cat)\n",
      "List(zebra, horse, giraffe, cat, dog, elephant)\n",
      "List(zebra, horse, giraffe, cat, elephant, dog)\n",
      "List(zebra, horse, giraffe, dog, cat, elephant)\n",
      "List(zebra, horse, giraffe, dog, elephant, cat)\n",
      "List(zebra, horse, giraffe, elephant, cat, dog)\n",
      "List(zebra, horse, giraffe, elephant, dog, cat)\n",
      "List(zebra, giraffe, cat, dog, elephant, horse)\n",
      "List(zebra, giraffe, cat, dog, horse, elephant)\n",
      "List(zebra, giraffe, cat, elephant, dog, horse)\n",
      "List(zebra, giraffe, cat, elephant, horse, dog)\n",
      "List(zebra, giraffe, cat, horse, dog, elephant)\n",
      "List(zebra, giraffe, cat, horse, elephant, dog)\n",
      "List(zebra, giraffe, dog, cat, elephant, horse)\n",
      "List(zebra, giraffe, dog, cat, horse, elephant)\n",
      "List(zebra, giraffe, dog, elephant, cat, horse)\n",
      "List(zebra, giraffe, dog, elephant, horse, cat)\n",
      "List(zebra, giraffe, dog, horse, cat, elephant)\n",
      "List(zebra, giraffe, dog, horse, elephant, cat)\n",
      "List(zebra, giraffe, elephant, cat, dog, horse)\n",
      "List(zebra, giraffe, elephant, cat, horse, dog)\n",
      "List(zebra, giraffe, elephant, dog, cat, horse)\n",
      "List(zebra, giraffe, elephant, dog, horse, cat)\n",
      "List(zebra, giraffe, elephant, horse, cat, dog)\n",
      "List(zebra, giraffe, elephant, horse, dog, cat)\n",
      "List(zebra, giraffe, horse, cat, dog, elephant)\n",
      "List(zebra, giraffe, horse, cat, elephant, dog)\n",
      "List(zebra, giraffe, horse, dog, cat, elephant)\n",
      "List(zebra, giraffe, horse, dog, elephant, cat)\n",
      "List(zebra, giraffe, horse, elephant, cat, dog)\n",
      "List(zebra, giraffe, horse, elephant, dog, cat)\n",
      "List(horse, cat, dog, elephant, zebra, giraffe)\n",
      "List(horse, cat, dog, elephant, giraffe, zebra)\n",
      "List(horse, cat, dog, zebra, elephant, giraffe)\n",
      "List(horse, cat, dog, zebra, giraffe, elephant)\n",
      "List(horse, cat, dog, giraffe, elephant, zebra)\n",
      "List(horse, cat, dog, giraffe, zebra, elephant)\n",
      "List(horse, cat, elephant, dog, zebra, giraffe)\n",
      "List(horse, cat, elephant, dog, giraffe, zebra)\n",
      "List(horse, cat, elephant, zebra, dog, giraffe)\n",
      "List(horse, cat, elephant, zebra, giraffe, dog)\n",
      "List(horse, cat, elephant, giraffe, dog, zebra)\n",
      "List(horse, cat, elephant, giraffe, zebra, dog)\n",
      "List(horse, cat, zebra, dog, elephant, giraffe)\n",
      "List(horse, cat, zebra, dog, giraffe, elephant)\n",
      "List(horse, cat, zebra, elephant, dog, giraffe)\n",
      "List(horse, cat, zebra, elephant, giraffe, dog)\n",
      "List(horse, cat, zebra, giraffe, dog, elephant)\n",
      "List(horse, cat, zebra, giraffe, elephant, dog)\n",
      "List(horse, cat, giraffe, dog, elephant, zebra)\n",
      "List(horse, cat, giraffe, dog, zebra, elephant)\n",
      "List(horse, cat, giraffe, elephant, dog, zebra)\n",
      "List(horse, cat, giraffe, elephant, zebra, dog)\n",
      "List(horse, cat, giraffe, zebra, dog, elephant)\n",
      "List(horse, cat, giraffe, zebra, elephant, dog)\n",
      "List(horse, dog, cat, elephant, zebra, giraffe)\n",
      "List(horse, dog, cat, elephant, giraffe, zebra)\n",
      "List(horse, dog, cat, zebra, elephant, giraffe)\n",
      "List(horse, dog, cat, zebra, giraffe, elephant)\n",
      "List(horse, dog, cat, giraffe, elephant, zebra)\n",
      "List(horse, dog, cat, giraffe, zebra, elephant)\n",
      "List(horse, dog, elephant, cat, zebra, giraffe)\n",
      "List(horse, dog, elephant, cat, giraffe, zebra)\n",
      "List(horse, dog, elephant, zebra, cat, giraffe)\n",
      "List(horse, dog, elephant, zebra, giraffe, cat)\n",
      "List(horse, dog, elephant, giraffe, cat, zebra)\n",
      "List(horse, dog, elephant, giraffe, zebra, cat)\n",
      "List(horse, dog, zebra, cat, elephant, giraffe)\n",
      "List(horse, dog, zebra, cat, giraffe, elephant)\n",
      "List(horse, dog, zebra, elephant, cat, giraffe)\n",
      "List(horse, dog, zebra, elephant, giraffe, cat)\n",
      "List(horse, dog, zebra, giraffe, cat, elephant)\n",
      "List(horse, dog, zebra, giraffe, elephant, cat)\n",
      "List(horse, dog, giraffe, cat, elephant, zebra)\n",
      "List(horse, dog, giraffe, cat, zebra, elephant)\n",
      "List(horse, dog, giraffe, elephant, cat, zebra)\n",
      "List(horse, dog, giraffe, elephant, zebra, cat)\n",
      "List(horse, dog, giraffe, zebra, cat, elephant)\n",
      "List(horse, dog, giraffe, zebra, elephant, cat)\n",
      "List(horse, elephant, cat, dog, zebra, giraffe)\n",
      "List(horse, elephant, cat, dog, giraffe, zebra)\n",
      "List(horse, elephant, cat, zebra, dog, giraffe)\n",
      "List(horse, elephant, cat, zebra, giraffe, dog)\n",
      "List(horse, elephant, cat, giraffe, dog, zebra)\n",
      "List(horse, elephant, cat, giraffe, zebra, dog)\n",
      "List(horse, elephant, dog, cat, zebra, giraffe)\n",
      "List(horse, elephant, dog, cat, giraffe, zebra)\n",
      "List(horse, elephant, dog, zebra, cat, giraffe)\n",
      "List(horse, elephant, dog, zebra, giraffe, cat)\n",
      "List(horse, elephant, dog, giraffe, cat, zebra)\n",
      "List(horse, elephant, dog, giraffe, zebra, cat)\n",
      "List(horse, elephant, zebra, cat, dog, giraffe)\n",
      "List(horse, elephant, zebra, cat, giraffe, dog)\n",
      "List(horse, elephant, zebra, dog, cat, giraffe)\n",
      "List(horse, elephant, zebra, dog, giraffe, cat)\n",
      "List(horse, elephant, zebra, giraffe, cat, dog)\n",
      "List(horse, elephant, zebra, giraffe, dog, cat)\n",
      "List(horse, elephant, giraffe, cat, dog, zebra)\n",
      "List(horse, elephant, giraffe, cat, zebra, dog)\n",
      "List(horse, elephant, giraffe, dog, cat, zebra)\n",
      "List(horse, elephant, giraffe, dog, zebra, cat)\n",
      "List(horse, elephant, giraffe, zebra, cat, dog)\n",
      "List(horse, elephant, giraffe, zebra, dog, cat)\n",
      "List(horse, zebra, cat, dog, elephant, giraffe)\n",
      "List(horse, zebra, cat, dog, giraffe, elephant)\n",
      "List(horse, zebra, cat, elephant, dog, giraffe)\n",
      "List(horse, zebra, cat, elephant, giraffe, dog)\n",
      "List(horse, zebra, cat, giraffe, dog, elephant)\n",
      "List(horse, zebra, cat, giraffe, elephant, dog)\n",
      "List(horse, zebra, dog, cat, elephant, giraffe)\n",
      "List(horse, zebra, dog, cat, giraffe, elephant)\n",
      "List(horse, zebra, dog, elephant, cat, giraffe)\n",
      "List(horse, zebra, dog, elephant, giraffe, cat)\n",
      "List(horse, zebra, dog, giraffe, cat, elephant)\n",
      "List(horse, zebra, dog, giraffe, elephant, cat)\n",
      "List(horse, zebra, elephant, cat, dog, giraffe)\n",
      "List(horse, zebra, elephant, cat, giraffe, dog)\n",
      "List(horse, zebra, elephant, dog, cat, giraffe)\n",
      "List(horse, zebra, elephant, dog, giraffe, cat)\n",
      "List(horse, zebra, elephant, giraffe, cat, dog)\n",
      "List(horse, zebra, elephant, giraffe, dog, cat)\n",
      "List(horse, zebra, giraffe, cat, dog, elephant)\n",
      "List(horse, zebra, giraffe, cat, elephant, dog)\n",
      "List(horse, zebra, giraffe, dog, cat, elephant)\n",
      "List(horse, zebra, giraffe, dog, elephant, cat)\n",
      "List(horse, zebra, giraffe, elephant, cat, dog)\n",
      "List(horse, zebra, giraffe, elephant, dog, cat)\n",
      "List(horse, giraffe, cat, dog, elephant, zebra)\n",
      "List(horse, giraffe, cat, dog, zebra, elephant)\n",
      "List(horse, giraffe, cat, elephant, dog, zebra)\n",
      "List(horse, giraffe, cat, elephant, zebra, dog)\n",
      "List(horse, giraffe, cat, zebra, dog, elephant)\n",
      "List(horse, giraffe, cat, zebra, elephant, dog)\n",
      "List(horse, giraffe, dog, cat, elephant, zebra)\n",
      "List(horse, giraffe, dog, cat, zebra, elephant)\n",
      "List(horse, giraffe, dog, elephant, cat, zebra)\n",
      "List(horse, giraffe, dog, elephant, zebra, cat)\n",
      "List(horse, giraffe, dog, zebra, cat, elephant)\n",
      "List(horse, giraffe, dog, zebra, elephant, cat)\n",
      "List(horse, giraffe, elephant, cat, dog, zebra)\n",
      "List(horse, giraffe, elephant, cat, zebra, dog)\n",
      "List(horse, giraffe, elephant, dog, cat, zebra)\n",
      "List(horse, giraffe, elephant, dog, zebra, cat)\n",
      "List(horse, giraffe, elephant, zebra, cat, dog)\n",
      "List(horse, giraffe, elephant, zebra, dog, cat)\n",
      "List(horse, giraffe, zebra, cat, dog, elephant)\n",
      "List(horse, giraffe, zebra, cat, elephant, dog)\n",
      "List(horse, giraffe, zebra, dog, cat, elephant)\n",
      "List(horse, giraffe, zebra, dog, elephant, cat)\n",
      "List(horse, giraffe, zebra, elephant, cat, dog)\n",
      "List(horse, giraffe, zebra, elephant, dog, cat)\n",
      "List(giraffe, cat, dog, elephant, zebra, horse)\n",
      "List(giraffe, cat, dog, elephant, horse, zebra)\n",
      "List(giraffe, cat, dog, zebra, elephant, horse)\n",
      "List(giraffe, cat, dog, zebra, horse, elephant)\n",
      "List(giraffe, cat, dog, horse, elephant, zebra)\n",
      "List(giraffe, cat, dog, horse, zebra, elephant)\n",
      "List(giraffe, cat, elephant, dog, zebra, horse)\n",
      "List(giraffe, cat, elephant, dog, horse, zebra)\n",
      "List(giraffe, cat, elephant, zebra, dog, horse)\n",
      "List(giraffe, cat, elephant, zebra, horse, dog)\n",
      "List(giraffe, cat, elephant, horse, dog, zebra)\n",
      "List(giraffe, cat, elephant, horse, zebra, dog)\n",
      "List(giraffe, cat, zebra, dog, elephant, horse)\n",
      "List(giraffe, cat, zebra, dog, horse, elephant)\n",
      "List(giraffe, cat, zebra, elephant, dog, horse)\n",
      "List(giraffe, cat, zebra, elephant, horse, dog)\n",
      "List(giraffe, cat, zebra, horse, dog, elephant)\n",
      "List(giraffe, cat, zebra, horse, elephant, dog)\n",
      "List(giraffe, cat, horse, dog, elephant, zebra)\n",
      "List(giraffe, cat, horse, dog, zebra, elephant)\n",
      "List(giraffe, cat, horse, elephant, dog, zebra)\n",
      "List(giraffe, cat, horse, elephant, zebra, dog)\n",
      "List(giraffe, cat, horse, zebra, dog, elephant)\n",
      "List(giraffe, cat, horse, zebra, elephant, dog)\n",
      "List(giraffe, dog, cat, elephant, zebra, horse)\n",
      "List(giraffe, dog, cat, elephant, horse, zebra)\n",
      "List(giraffe, dog, cat, zebra, elephant, horse)\n",
      "List(giraffe, dog, cat, zebra, horse, elephant)\n",
      "List(giraffe, dog, cat, horse, elephant, zebra)\n",
      "List(giraffe, dog, cat, horse, zebra, elephant)\n",
      "List(giraffe, dog, elephant, cat, zebra, horse)\n",
      "List(giraffe, dog, elephant, cat, horse, zebra)\n",
      "List(giraffe, dog, elephant, zebra, cat, horse)\n",
      "List(giraffe, dog, elephant, zebra, horse, cat)\n",
      "List(giraffe, dog, elephant, horse, cat, zebra)\n",
      "List(giraffe, dog, elephant, horse, zebra, cat)\n",
      "List(giraffe, dog, zebra, cat, elephant, horse)\n",
      "List(giraffe, dog, zebra, cat, horse, elephant)\n",
      "List(giraffe, dog, zebra, elephant, cat, horse)\n",
      "List(giraffe, dog, zebra, elephant, horse, cat)\n",
      "List(giraffe, dog, zebra, horse, cat, elephant)\n",
      "List(giraffe, dog, zebra, horse, elephant, cat)\n",
      "List(giraffe, dog, horse, cat, elephant, zebra)\n",
      "List(giraffe, dog, horse, cat, zebra, elephant)\n",
      "List(giraffe, dog, horse, elephant, cat, zebra)\n",
      "List(giraffe, dog, horse, elephant, zebra, cat)\n",
      "List(giraffe, dog, horse, zebra, cat, elephant)\n",
      "List(giraffe, dog, horse, zebra, elephant, cat)\n",
      "List(giraffe, elephant, cat, dog, zebra, horse)\n",
      "List(giraffe, elephant, cat, dog, horse, zebra)\n",
      "List(giraffe, elephant, cat, zebra, dog, horse)\n",
      "List(giraffe, elephant, cat, zebra, horse, dog)\n",
      "List(giraffe, elephant, cat, horse, dog, zebra)\n",
      "List(giraffe, elephant, cat, horse, zebra, dog)\n",
      "List(giraffe, elephant, dog, cat, zebra, horse)\n",
      "List(giraffe, elephant, dog, cat, horse, zebra)\n",
      "List(giraffe, elephant, dog, zebra, cat, horse)\n",
      "List(giraffe, elephant, dog, zebra, horse, cat)\n",
      "List(giraffe, elephant, dog, horse, cat, zebra)\n",
      "List(giraffe, elephant, dog, horse, zebra, cat)\n",
      "List(giraffe, elephant, zebra, cat, dog, horse)\n",
      "List(giraffe, elephant, zebra, cat, horse, dog)\n",
      "List(giraffe, elephant, zebra, dog, cat, horse)\n",
      "List(giraffe, elephant, zebra, dog, horse, cat)\n",
      "List(giraffe, elephant, zebra, horse, cat, dog)\n",
      "List(giraffe, elephant, zebra, horse, dog, cat)\n",
      "List(giraffe, elephant, horse, cat, dog, zebra)\n",
      "List(giraffe, elephant, horse, cat, zebra, dog)\n",
      "List(giraffe, elephant, horse, dog, cat, zebra)\n",
      "List(giraffe, elephant, horse, dog, zebra, cat)\n",
      "List(giraffe, elephant, horse, zebra, cat, dog)\n",
      "List(giraffe, elephant, horse, zebra, dog, cat)\n",
      "List(giraffe, zebra, cat, dog, elephant, horse)\n",
      "List(giraffe, zebra, cat, dog, horse, elephant)\n",
      "List(giraffe, zebra, cat, elephant, dog, horse)\n",
      "List(giraffe, zebra, cat, elephant, horse, dog)\n",
      "List(giraffe, zebra, cat, horse, dog, elephant)\n",
      "List(giraffe, zebra, cat, horse, elephant, dog)\n",
      "List(giraffe, zebra, dog, cat, elephant, horse)\n",
      "List(giraffe, zebra, dog, cat, horse, elephant)\n"
     ]
    },
    {
     "name": "stdout",
     "output_type": "stream",
     "text": [
      "List(giraffe, zebra, dog, elephant, cat, horse)\n",
      "List(giraffe, zebra, dog, elephant, horse, cat)\n",
      "List(giraffe, zebra, dog, horse, cat, elephant)\n",
      "List(giraffe, zebra, dog, horse, elephant, cat)\n",
      "List(giraffe, zebra, elephant, cat, dog, horse)\n",
      "List(giraffe, zebra, elephant, cat, horse, dog)\n",
      "List(giraffe, zebra, elephant, dog, cat, horse)\n",
      "List(giraffe, zebra, elephant, dog, horse, cat)\n",
      "List(giraffe, zebra, elephant, horse, cat, dog)\n",
      "List(giraffe, zebra, elephant, horse, dog, cat)\n",
      "List(giraffe, zebra, horse, cat, dog, elephant)\n",
      "List(giraffe, zebra, horse, cat, elephant, dog)\n",
      "List(giraffe, zebra, horse, dog, cat, elephant)\n",
      "List(giraffe, zebra, horse, dog, elephant, cat)\n",
      "List(giraffe, zebra, horse, elephant, cat, dog)\n",
      "List(giraffe, zebra, horse, elephant, dog, cat)\n",
      "List(giraffe, horse, cat, dog, elephant, zebra)\n",
      "List(giraffe, horse, cat, dog, zebra, elephant)\n",
      "List(giraffe, horse, cat, elephant, dog, zebra)\n",
      "List(giraffe, horse, cat, elephant, zebra, dog)\n",
      "List(giraffe, horse, cat, zebra, dog, elephant)\n",
      "List(giraffe, horse, cat, zebra, elephant, dog)\n",
      "List(giraffe, horse, dog, cat, elephant, zebra)\n",
      "List(giraffe, horse, dog, cat, zebra, elephant)\n",
      "List(giraffe, horse, dog, elephant, cat, zebra)\n",
      "List(giraffe, horse, dog, elephant, zebra, cat)\n",
      "List(giraffe, horse, dog, zebra, cat, elephant)\n",
      "List(giraffe, horse, dog, zebra, elephant, cat)\n",
      "List(giraffe, horse, elephant, cat, dog, zebra)\n",
      "List(giraffe, horse, elephant, cat, zebra, dog)\n",
      "List(giraffe, horse, elephant, dog, cat, zebra)\n",
      "List(giraffe, horse, elephant, dog, zebra, cat)\n",
      "List(giraffe, horse, elephant, zebra, cat, dog)\n",
      "List(giraffe, horse, elephant, zebra, dog, cat)\n",
      "List(giraffe, horse, zebra, cat, dog, elephant)\n",
      "List(giraffe, horse, zebra, cat, elephant, dog)\n",
      "List(giraffe, horse, zebra, dog, cat, elephant)\n",
      "List(giraffe, horse, zebra, dog, elephant, cat)\n",
      "List(giraffe, horse, zebra, elephant, cat, dog)\n",
      "List(giraffe, horse, zebra, elephant, dog, cat)\n"
     ]
    }
   ],
   "source": [
    "words.permutations().asJava().stream().forEach(c -> System.out.println(c.toString()));"
   ]
  },
  {
   "cell_type": "code",
   "execution_count": 42,
   "metadata": {},
   "outputs": [
    {
     "data": {
      "text/plain": [
       "None"
      ]
     },
     "execution_count": 42,
     "metadata": {},
     "output_type": "execute_result"
    }
   ],
   "source": [
    "words.find( c -> c.equalsIgnoreCase(\"dolphin\"))"
   ]
  },
  {
   "cell_type": "code",
   "execution_count": 43,
   "metadata": {},
   "outputs": [
    {
     "data": {
      "text/plain": [
       "Some(dog)"
      ]
     },
     "execution_count": 43,
     "metadata": {},
     "output_type": "execute_result"
    }
   ],
   "source": [
    "words.find( c -> c.equalsIgnoreCase(\"dog\"))"
   ]
  },
  {
   "cell_type": "markdown",
   "metadata": {},
   "source": [
    "##### Set"
   ]
  },
  {
   "cell_type": "code",
   "execution_count": 44,
   "metadata": {},
   "outputs": [],
   "source": [
    "import io.vavr.collection.Set;\n",
    "import io.vavr.collection.HashSet;\n",
    "import io.vavr.collection.TreeSet;\n",
    "\n",
    "final Set<String> myAnimals = HashSet.of(\"cat\", \"dog\", \"horse\");\n",
    "final Set<String> zooAnimals = TreeSet.of(\"zebra\", \"horse\", \"giraffe\");"
   ]
  },
  {
   "cell_type": "code",
   "execution_count": 45,
   "metadata": {},
   "outputs": [
    {
     "data": {
      "text/plain": [
       "HashSet(horse)"
      ]
     },
     "execution_count": 45,
     "metadata": {},
     "output_type": "execute_result"
    }
   ],
   "source": [
    "myAnimals.intersect(zooAnimals)"
   ]
  },
  {
   "cell_type": "code",
   "execution_count": 46,
   "metadata": {},
   "outputs": [
    {
     "data": {
      "text/plain": [
       "HashSet(cat, dog)"
      ]
     },
     "execution_count": 46,
     "metadata": {},
     "output_type": "execute_result"
    }
   ],
   "source": [
    "myAnimals.diff(zooAnimals)"
   ]
  },
  {
   "cell_type": "code",
   "execution_count": 47,
   "metadata": {},
   "outputs": [
    {
     "data": {
      "text/plain": [
       "HashSet(zebra, giraffe, cat, dog, horse)"
      ]
     },
     "execution_count": 47,
     "metadata": {},
     "output_type": "execute_result"
    }
   ],
   "source": [
    "myAnimals.union(zooAnimals)"
   ]
  },
  {
   "cell_type": "markdown",
   "metadata": {},
   "source": [
    "##### Map"
   ]
  },
  {
   "cell_type": "code",
   "execution_count": 48,
   "metadata": {},
   "outputs": [],
   "source": [
    "import io.vavr.collection.Map;\n",
    "final Map<Integer, List<String>> groupedWords = words.groupBy(String::length);"
   ]
  },
  {
   "cell_type": "code",
   "execution_count": 49,
   "metadata": {},
   "outputs": [
    {
     "data": {
      "text/plain": [
       "LinkedHashMap((3, List(cat, dog)), (8, List(elephant)), (5, List(zebra, horse)), (7, List(giraffe)))"
      ]
     },
     "execution_count": 49,
     "metadata": {},
     "output_type": "execute_result"
    }
   ],
   "source": [
    "groupedWords"
   ]
  },
  {
   "cell_type": "code",
   "execution_count": 50,
   "metadata": {},
   "outputs": [
    {
     "data": {
      "text/plain": [
       "None"
      ]
     },
     "execution_count": 50,
     "metadata": {},
     "output_type": "execute_result"
    }
   ],
   "source": [
    "groupedWords.get(4)"
   ]
  },
  {
   "cell_type": "code",
   "execution_count": 51,
   "metadata": {},
   "outputs": [
    {
     "data": {
      "text/plain": [
       "List()"
      ]
     },
     "execution_count": 51,
     "metadata": {},
     "output_type": "execute_result"
    }
   ],
   "source": [
    "groupedWords.get(4).getOrElse(List.empty())"
   ]
  },
  {
   "cell_type": "markdown",
   "metadata": {},
   "source": [
    "### Concurrent ( Future )\n",
    "\n",
    "* A Future is a computation result that becomes available at some point. All operations provided are non-blocking.\n",
    "* A Future has two states: pending and completed.\n",
    "\n",
    "* Pending: The computation is ongoing. Only a pending future may be completed or cancelled.\n",
    "* Completed: The computation finished successfully with a result, failed with an exception or was cancelled.\n"
   ]
  },
  {
   "cell_type": "code",
   "execution_count": 52,
   "metadata": {},
   "outputs": [],
   "source": [
    "import io.vavr.concurrent.Future;\n",
    "\n",
    "\n",
    "private String sleepAndGiveString(){\n",
    "\n",
    "try{\n",
    "Thread.sleep(5);\n",
    "}\n",
    "catch(Exception e){\n",
    "e.printStackTrace();\n",
    "}\n",
    "\n",
    "return \"Hi, I woke up now\";\n",
    "}\n",
    "\n",
    "\n",
    "String initialValue = \"Welcome to \";\n",
    "Future<String> resultFuture = Future.of(() ->  sleepAndGiveString() );"
   ]
  },
  {
   "cell_type": "code",
   "execution_count": 53,
   "metadata": {},
   "outputs": [
    {
     "data": {
      "text/plain": [
       "Hi, I woke up now"
      ]
     },
     "execution_count": 53,
     "metadata": {},
     "output_type": "execute_result"
    }
   ],
   "source": [
    "resultFuture.get()"
   ]
  },
  {
   "cell_type": "code",
   "execution_count": 54,
   "metadata": {},
   "outputs": [
    {
     "data": {
      "text/plain": [
       "Some(Success(Hi, I woke up now))"
      ]
     },
     "execution_count": 54,
     "metadata": {},
     "output_type": "execute_result"
    }
   ],
   "source": [
    "resultFuture.getValue()"
   ]
  },
  {
   "cell_type": "markdown",
   "metadata": {},
   "source": [
    "* get() is a blocking call \n",
    "* getValue() is a non blocking call, which returns Option<Try<T>>\n",
    "* So, getValue() will return immediately and if the state is pending, it will return None. If the state is completed, then it will return Some with the value of the asynchronous computation"
   ]
  },
  {
   "cell_type": "code",
   "execution_count": 55,
   "metadata": {},
   "outputs": [
    {
     "name": "stdout",
     "output_type": "stream",
     "text": [
      "Hi, I woke up now\n"
     ]
    },
    {
     "data": {
      "text/plain": [
       "Future(Success(Hi, I woke up now))"
      ]
     },
     "execution_count": 55,
     "metadata": {},
     "output_type": "execute_result"
    }
   ],
   "source": [
    "resultFuture.onSuccess( value -> System.out.println(value));\n",
    "resultFuture.onFailure(value -> System.out.println(\"Failed\"));"
   ]
  }
 ],
 "metadata": {
  "kernelspec": {
   "display_name": "Java",
   "language": "java",
   "name": "java"
  },
  "language_info": {
   "codemirror_mode": "java",
   "file_extension": ".java",
   "mimetype": "text/x-java-source",
   "name": "Java",
   "pygments_lexer": "java",
   "version": "11.0.2+7-LTS"
  }
 },
 "nbformat": 4,
 "nbformat_minor": 2
}
