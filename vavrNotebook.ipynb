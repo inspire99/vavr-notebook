{
 "cells": [
  {
   "cell_type": "markdown",
   "metadata": {},
   "source": [
    "## Introduction\n",
    "\n",
    "VAVR is a functional library for Java.\n",
    "\n",
    "##### Curiosity of the reader\n",
    "\n",
    "Your questions might be in the following manner depending upon your role in the company/ in your team:\n",
    "\n",
    "0. What is so cool about VAVR?\n",
    "1. If Java8 has provided functional aspects to Java Programming Language, why should I choose VAVR?\n",
    "2. Is VAVR robust enough, to be deployed in production environment?\n",
    "3. What will be the learning curve for my team if they need to plunge into VAVR and adapt VAVR into existing code?\n",
    "4. What kind of issues my product might face, if it is deployed into my production environment?\n",
    "5. Are there any best practices as far as VAVR is concerned?"
   ]
  },
  {
   "cell_type": "markdown",
   "metadata": {},
   "source": [
    "### Prerequisite for running VAVR code in this Jupyter notebook\n",
    "\n",
    "* Import VAVR maven dependency into this notebook, by running following maven magic command"
   ]
  },
  {
   "cell_type": "code",
   "execution_count": 2,
   "metadata": {},
   "outputs": [],
   "source": [
    "%mavenRepo central http://repo1.maven.org/maven2/\n",
    "%maven io.vavr:vavr:0.9.0    \n",
    "import io.vavr.control.*;\n"
   ]
  },
  {
   "cell_type": "markdown",
   "metadata": {},
   "source": [
    "### VAVR Topics/ Concepts covered in this draft\n",
    "\n",
    "* Tuples\n",
    "* Functions\n",
    "* Controls (Option, Try, Either)\n",
    "* Collections\n",
    "* Concurrent (Future)"
   ]
  },
  {
   "cell_type": "markdown",
   "metadata": {},
   "source": [
    "### Tuples\n",
    "\n",
    "Tuple is a immutable data structure which can hold different objects of different data types\n",
    "\n",
    "* So, one question you would ask is, multiple means : how many? Currently, VAVR supports Tuples to hold 8 different objects of different data types.\n",
    "* So, we have types like: Tuple1, Tuple2, Tuple3, Tuple4, ..., Tuple8 where each Tuplen type allows to store n different objects in it.\n",
    "\n",
    "* Can we see an example of using Tuples in our code? Yes."
   ]
  },
  {
   "cell_type": "markdown",
   "metadata": {},
   "source": [
    "#### Tuple Declaration/ Initialization"
   ]
  },
  {
   "cell_type": "code",
   "execution_count": 4,
   "metadata": {},
   "outputs": [],
   "source": [
    "import io.vavr.Tuple;\n",
    "import io.vavr.Tuple1;\n",
    "import io.vavr.Tuple2;\n",
    "\n",
    "Tuple1<String> stringTuple1 = Tuple.of(\"VAVR\");\n",
    "Tuple2<String, Integer> stringIntTuple = Tuple.of(\"JAVA\", 1);\n",
    "\n",
    "/**\n",
    " We need to initialize a Tuple like: Tuple.of(\"VAVR\", 8). \n",
    " You can see that we are holding a String object, as well as an \n",
    " integer within the tuple.\n",
    "**/"
   ]
  },
  {
   "cell_type": "markdown",
   "metadata": {},
   "source": [
    "#### Accessing individual elements of a Tuple\n",
    "\n",
    "* How do we access the individual objects within a Tuple?\n",
    "* Using indexing like _n or _n() to access the nth element within a Tuple.\n",
    "* Please note that we dont have zero based indexing here in Tuple\n",
    "* Can you notice one thing about the code readability? I am creating a Tuple.of a string and integer."
   ]
  },
  {
   "cell_type": "code",
   "execution_count": 8,
   "metadata": {},
   "outputs": [
    {
     "data": {
      "text/plain": [
       "VAVR"
      ]
     },
     "execution_count": 8,
     "metadata": {},
     "output_type": "execute_result"
    }
   ],
   "source": [
    "String s = stringTuple1._1();\n",
    "s"
   ]
  },
  {
   "cell_type": "code",
   "execution_count": 9,
   "metadata": {},
   "outputs": [
    {
     "data": {
      "text/plain": [
       "1"
      ]
     },
     "execution_count": 9,
     "metadata": {},
     "output_type": "execute_result"
    }
   ],
   "source": [
    "int integernum = stringIntTuple._2();\n",
    "integernum"
   ]
  },
  {
   "cell_type": "markdown",
   "metadata": {},
   "source": [
    "* Try doing something with below code, stringIntTuple is a Tuple. If you want to know what methods can be applied on a Tuple, just press Tab after the dot . Pressing Tab will list different methods or code completion possibilities"
   ]
  },
  {
   "cell_type": "code",
   "execution_count": 10,
   "metadata": {},
   "outputs": [
    {
     "data": {
      "text/plain": [
       "JAVA"
      ]
     },
     "execution_count": 10,
     "metadata": {},
     "output_type": "execute_result"
    }
   ],
   "source": [
    "stringIntTuple._1"
   ]
  },
  {
   "cell_type": "markdown",
   "metadata": {},
   "source": [
    "Java8 functions provide us capabilities to handle parameters, upto 2"
   ]
  },
  {
   "cell_type": "code",
   "execution_count": 19,
   "metadata": {},
   "outputs": [],
   "source": [
    "import java.util.function.*;"
   ]
  },
  {
   "cell_type": "code",
   "execution_count": 26,
   "metadata": {},
   "outputs": [
    {
     "data": {
      "text/plain": [
       "25"
      ]
     },
     "execution_count": 26,
     "metadata": {},
     "output_type": "execute_result"
    }
   ],
   "source": [
    " Function<Integer, Integer> pow = (n) -> n * n;\n",
    " pow.apply(5);\n",
    "        \n",
    "        "
   ]
  },
  {
   "cell_type": "code",
   "execution_count": 27,
   "metadata": {},
   "outputs": [
    {
     "data": {
      "text/plain": [
       "50"
      ]
     },
     "execution_count": 27,
     "metadata": {},
     "output_type": "execute_result"
    }
   ],
   "source": [
    "BiFunction<Integer, Integer, Integer> multiply = (a, b) -> a * b;\n",
    "        multiply.apply(10,5);\n"
   ]
  },
  {
   "cell_type": "markdown",
   "metadata": {},
   "source": [
    "VAVR provides capabilities to write functions which take upto 8 parameters,\n",
    "Here we are going to see function which takes upto 3 parameters, by using Function3 interface."
   ]
  },
  {
   "cell_type": "code",
   "execution_count": 36,
   "metadata": {},
   "outputs": [
    {
     "data": {
      "text/plain": [
       "64"
      ]
     },
     "execution_count": 36,
     "metadata": {},
     "output_type": "execute_result"
    }
   ],
   "source": [
    "import io.vavr.Function1;\n",
    "\n",
    "Function1<Integer, Integer> pow = (n) -> n * n;\n",
    "\n",
    "pow.apply(8)\n",
    "\n",
    "    "
   ]
  },
  {
   "cell_type": "markdown",
   "metadata": {},
   "source": [
    "You can read above code as:\n",
    "Right hand side expression is a lambda expression which can be assigned to a functional interface, pow. \n",
    "And pow is a function which takes an integer as argument and returns result as integer.\n",
    "And pow function is applied to the argument 8, which returns 64 as result"
   ]
  },
  {
   "cell_type": "code",
   "execution_count": 39,
   "metadata": {},
   "outputs": [
    {
     "data": {
      "text/plain": [
       "64"
      ]
     },
     "execution_count": 39,
     "metadata": {},
     "output_type": "execute_result"
    }
   ],
   "source": [
    "import io.vavr.Function3;\n",
    "Function3<Integer, Integer, Integer, Integer> multiply = (n1, n2, n3) -> n1 * n2 * n3;\n",
    "\n",
    "multiply.andThen(pow).apply(2,2,2)\n"
   ]
  },
  {
   "cell_type": "markdown",
   "metadata": {},
   "source": [
    "You can read above code as: Right hand expression is a lambda expression, which takes 3 parameters and multiplies them with each other. And that lambda expression is assigned to a functional interface Function3, which expresses a function which takes 3 arguments and returns a result which is Integer.\n",
    "\n",
    "So, we first apply multiply onto the arguments (2,2,2) and then we apply pow onto the resultant of multiply call."
   ]
  }
 ],
 "metadata": {
  "kernelspec": {
   "display_name": "Java",
   "language": "java",
   "name": "java"
  },
  "language_info": {
   "codemirror_mode": "java",
   "file_extension": ".java",
   "mimetype": "text/x-java-source",
   "name": "Java",
   "pygments_lexer": "java",
   "version": "11.0.2+7-LTS"
  }
 },
 "nbformat": 4,
 "nbformat_minor": 2
}
