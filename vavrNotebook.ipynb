{
 "cells": [
  {
   "cell_type": "markdown",
   "metadata": {},
   "source": [
    "VAVR is a functional library for Java. This notebook presents some code examples of usage of VAVR library. \n",
    "\n",
    "\n",
    "\n",
    "Please remember to run the cell below ( 'Shift + Enter' on the cell )\n",
    "\n",
    "First things First. Let's try out Jupyter shortcuts\n",
    "\n",
    "* (Try it out) Double click this text and see the box color surrounding it. \n",
    "    \n",
    "    If it is green --> it is edit mode of Jupyter\n",
    "    If it is blue --> it is command mode of Jupyter\n",
    "\n",
    "    Hey, I am not able to see blue box.. Yes, just press Esc. Ok, now I can see blue box :)\n",
    "\n",
    "    Now, you can issue commands to Jupyter notebook. Basically keyboard shortcuts.\n",
    "    \n",
    "    They are: A, B, DD, and so on.. \n",
    "\n",
    "* (Try it out) just press H ( this will open shortcut list window , just like in gmail: Shift + ?)\n",
    "\n",
    "* (Try it out) just press Ctrl+Shift+P ( you will see command pallette )\n"
   ]
  },
  {
   "cell_type": "markdown",
   "metadata": {},
   "source": [
    "1. Import VAVR maven dependency into this notebook"
   ]
  },
  {
   "cell_type": "code",
   "execution_count": 29,
   "metadata": {},
   "outputs": [],
   "source": [
    "%mavenRepo central http://repo1.maven.org/maven2/\n",
    "%maven io.vavr:vavr:0.9.0\n",
    "import io.vavr.control.*"
   ]
  },
  {
   "cell_type": "markdown",
   "metadata": {},
   "source": [
    "2. Option - allows us to handle null values in our code"
   ]
  },
  {
   "cell_type": "code",
   "execution_count": 47,
   "metadata": {},
   "outputs": [],
   "source": [
    "String obj = null;\n",
    "Option<Object> nullObject = Option.of(null);\n",
    "Option<Object> nonNullObject = Option.of(\"name\")\n",
    "\n"
   ]
  },
  {
   "cell_type": "code",
   "execution_count": 48,
   "metadata": {},
   "outputs": [],
   "source": [
    "Option<Integer> someInteger = Option.of(22)"
   ]
  },
  {
   "cell_type": "code",
   "execution_count": 49,
   "metadata": {},
   "outputs": [
    {
     "data": {
      "text/plain": [
       "Some(22)"
      ]
     },
     "execution_count": 49,
     "metadata": {},
     "output_type": "execute_result"
    }
   ],
   "source": [
    "someInteger\n"
   ]
  },
  {
   "cell_type": "code",
   "execution_count": 51,
   "metadata": {},
   "outputs": [
    {
     "data": {
      "text/plain": [
       "None"
      ]
     },
     "execution_count": 51,
     "metadata": {},
     "output_type": "execute_result"
    }
   ],
   "source": [
    "nullObject"
   ]
  },
  {
   "cell_type": "code",
   "execution_count": 43,
   "metadata": {},
   "outputs": [],
   "source": [
    "List<String> strList = new ArrayList();"
   ]
  },
  {
   "cell_type": "code",
   "execution_count": 44,
   "metadata": {},
   "outputs": [
    {
     "data": {
      "text/plain": [
       "[]"
      ]
     },
     "execution_count": 44,
     "metadata": {},
     "output_type": "execute_result"
    }
   ],
   "source": [
    "strList"
   ]
  },
  {
   "cell_type": "code",
   "execution_count": 39,
   "metadata": {},
   "outputs": [],
   "source": [
    "List<String> newList = List.of(\"i\", \"s\", \"d\")"
   ]
  },
  {
   "cell_type": "code",
   "execution_count": 40,
   "metadata": {},
   "outputs": [
    {
     "data": {
      "text/plain": [
       "[i, s, d]"
      ]
     },
     "execution_count": 40,
     "metadata": {},
     "output_type": "execute_result"
    }
   ],
   "source": [
    "newList"
   ]
  },
  {
   "cell_type": "code",
   "execution_count": 41,
   "metadata": {},
   "outputs": [
    {
     "data": {
      "text/plain": [
       "d"
      ]
     },
     "execution_count": 41,
     "metadata": {},
     "output_type": "execute_result"
    }
   ],
   "source": [
    "newList.get(2)"
   ]
  }
 ],
 "metadata": {
  "kernelspec": {
   "display_name": "Java",
   "language": "java",
   "name": "java"
  },
  "language_info": {
   "codemirror_mode": "java",
   "file_extension": ".java",
   "mimetype": "text/x-java-source",
   "name": "Java",
   "pygments_lexer": "java",
   "version": "11.0.2+7-LTS"
  }
 },
 "nbformat": 4,
 "nbformat_minor": 2
}
